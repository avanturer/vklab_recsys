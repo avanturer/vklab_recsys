{
 "cells": [
  {
   "metadata": {},
   "cell_type": "markdown",
   "source": "TOO LONG",
   "id": "53a73cbad971f086"
  },
  {
   "cell_type": "code",
   "id": "initial_id",
   "metadata": {
    "collapsed": true
   },
   "source": [
    "from PIL import Image\n",
    "from transformers import AutoProcessor, LlavaForConditionalGeneration\n",
    "\n",
    "processor = AutoProcessor.from_pretrained(\"llava-hf/llava-1.5-7b-hf\")\n",
    "\n",
    "model = LlavaForConditionalGeneration.from_pretrained(\"llava-hf/llava-1.5-7b-hf\")\n",
    "\n",
    "conversation = [\n",
    "    {\n",
    "        \"role\": \"user\",\n",
    "        \"content\": [\n",
    "            {\"type\": \"image\"},\n",
    "            {\"type\": \"text\",\n",
    "             \"text\": \"Define the image category. The answer should be one word. For example: 'Meme', 'News', 'Selfie' and more\"},\n",
    "        ],\n",
    "    },\n",
    "    {\n",
    "        \"role\": \"assistant\",\n",
    "        \"content\": [{\"type\": \"text\", \"text\": \"\"}, ]\n",
    "    },\n",
    "]\n",
    "\n",
    "text_prompt = processor.apply_chat_template(conversation, add_generation_prompt=True)"
   ],
   "outputs": [],
   "execution_count": null
  },
  {
   "metadata": {},
   "cell_type": "code",
   "source": [
    "image = Image.open('img/meme1.png')\n",
    "\n",
    "inputs = processor(images=image, text=text_prompt, return_tensors=\"pt\")\n",
    "\n",
    "generated_text = model.generate(**inputs, max_new_tokens=100)\n",
    "\n",
    "description = processor.batch_decode(generated_text, skip_special_tokens=True)[0]\n",
    "print(description)"
   ],
   "id": "6c2f19841b69a6f2",
   "outputs": [],
   "execution_count": null
  },
  {
   "metadata": {},
   "cell_type": "markdown",
   "source": "BEST RESULT",
   "id": "1a634131e399faca"
  },
  {
   "metadata": {
    "ExecuteTime": {
     "end_time": "2024-09-26T10:23:20.896461Z",
     "start_time": "2024-09-26T10:23:18.537796Z"
    }
   },
   "cell_type": "code",
   "source": [
    "import torch\n",
    "from transformers import CLIPProcessor, CLIPModel\n",
    "from PIL import Image\n",
    "import requests\n",
    "\n",
    "# Загрузка модели CLIP с Hugging Face\n",
    "model = CLIPModel.from_pretrained(\"zer0int/CLIP-GmP-ViT-L-14\")\n",
    "processor = CLIPProcessor.from_pretrained(\"zer0int/CLIP-GmP-ViT-L-14\")\n",
    "\n",
    "image = Image.open('img/quere.png')\n",
    "\n",
    "# Генерация категорий на основе контекста изображения\n",
    "categories = [\n",
    "    \"a russian meme\", \"a news\", \"a drawing\", \"nature\", \"a building\",\n",
    "    \"a car\", \"animals\" \"a quote\", \"a motivational post\",\n",
    "    \"a lifestyle post\", \"a personal blog post\", \"a recipe\", \"an advertisement\",\n",
    "    \"a product review\", \"a tutorial\", \"an holiday\", \"a sport\",\n",
    "    \"a fashion post\", \"a concert\", \"a political post\", \"a scientific post\",\n",
    "    \"a fitness post\", \"a travel post\", \"a historical post\",\n",
    "    \"a gaming post\", \"a movie\", \"a social cause post\", \"a technological post\", \"a food post\", \"a challenge\",\n",
    "    \"a reaction video\", \"an infographic\", \"a chart\", \"a horoscope\", \"a competition\",\n",
    "    \"a giveaway\", \"a promotional event\", \"a survey\", \"a fundraiser\", \"a job posting\",\n",
    "    \"an educational post\", \"a podcast\", \"a behind the scenes post\", \"a weather update\", \"an animal rescue post\",\n",
    "    \"an art post\", \"a celebrity news\", \"a fun fact\", \"a user poll\", \"a travel guide\",\n",
    "    \"a fitness challenge\", \"a shopping list\", \"a job advertisement\",\n",
    "    \"a scientific discovery\", \"a music post\", \"a public service announcement\", \"a cooking tip\",\n",
    "    \"a beauty tutorial\", \"a diet tip\", \"a business news\", \"a family post\", \"a parenting tip\",\n",
    "    \"a school project\", \"a charity event\", \"a photography tip\", \"a community update\",\n",
    "    \"a product launch\", \"a lifestyle hack\", \"a workout routine\", \"a relationship advice post\",\n",
    "    \"a technology review\", \"a finance tip\", \"a stock market update\",\n",
    "    \"a live stream\", \"a book review\", \"a concert recap\", \"a celebrity interview\", \"a home decor post\",\n",
    "    \"a virtual tour\", \"a fan fiction\", \"a mindfulness tip\", \"a fitness transformation\",\n",
    "    \"a makeup tutorial\", \"a travel itinerary\", \"a gym\", \"a gardening tip\", \"lego\", \"toy\"\n",
    "]\n",
    "# Токенизация категорий\n",
    "inputs = processor(text=categories, images=image, return_tensors=\"pt\", padding=True)\n",
    "\n",
    "# Прогон через модель\n",
    "outputs = model(**inputs)\n",
    "logits_per_image = outputs.logits_per_image  # Сходство изображений с текстом\n",
    "probs = logits_per_image.softmax(dim=1)  # Вероятности\n",
    "\n",
    "# Выбор лучшего описания\n",
    "best_category_index = probs.argmax().item()\n",
    "best_category = categories[best_category_index]\n",
    "\n",
    "print(f\"Description: {best_category}\")"
   ],
   "id": "7d3821162a276a0b",
   "outputs": [
    {
     "name": "stdout",
     "output_type": "stream",
     "text": [
      "Description: a user poll\n"
     ]
    }
   ],
   "execution_count": 81
  },
  {
   "metadata": {},
   "cell_type": "markdown",
   "source": "BAD WORK",
   "id": "815bd66974c28df"
  },
  {
   "metadata": {
    "ExecuteTime": {
     "end_time": "2024-09-26T10:24:01.365499Z",
     "start_time": "2024-09-26T10:23:56.125266Z"
    }
   },
   "cell_type": "code",
   "source": [
    "from transformers import BlipProcessor, BlipForConditionalGeneration\n",
    "from PIL import Image\n",
    "import requests\n",
    "\n",
    "# Загрузка модели BLIP с Hugging Face\n",
    "processor = BlipProcessor.from_pretrained(\"Salesforce/blip-image-captioning-base\")\n",
    "model = BlipForConditionalGeneration.from_pretrained(\"Salesforce/blip-image-captioning-base\")\n",
    "\n",
    "# Загрузка изображения\n",
    "image = Image.open(\"img/meme1.png\")\n",
    "\n",
    "# Подготовка изображения и текстового запроса\n",
    "prompt = \"Describe this image in one word.\"\n",
    "inputs = processor(images=image, text=prompt, return_tensors=\"pt\")\n",
    "\n",
    "# Генерация текста\n",
    "outputs = model.generate(**inputs, max_new_tokens=10, num_beams=10)\n",
    "\n",
    "# Преобразование вывода в текст\n",
    "caption = processor.decode(outputs[0], skip_special_tokens=True).strip()\n",
    "\n",
    "# Вывод результата\n",
    "print(f\"Однословное описание изображения: {caption}\")\n"
   ],
   "id": "78eceda54db39682",
   "outputs": [
    {
     "name": "stdout",
     "output_type": "stream",
     "text": [
      "Однословное описание изображения: describe this image in one word.s, you're, you're,\n"
     ]
    }
   ],
   "execution_count": 83
  }
 ],
 "metadata": {
  "kernelspec": {
   "display_name": "Python 3",
   "language": "python",
   "name": "python3"
  },
  "language_info": {
   "codemirror_mode": {
    "name": "ipython",
    "version": 2
   },
   "file_extension": ".py",
   "mimetype": "text/x-python",
   "name": "python",
   "nbconvert_exporter": "python",
   "pygments_lexer": "ipython2",
   "version": "2.7.6"
  }
 },
 "nbformat": 4,
 "nbformat_minor": 5
}
