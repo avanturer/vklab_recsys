{
 "cells": [
  {
   "cell_type": "code",
   "id": "initial_id",
   "metadata": {
    "collapsed": true,
    "ExecuteTime": {
     "end_time": "2024-09-26T19:23:17.456348Z",
     "start_time": "2024-09-26T19:23:17.368618Z"
    }
   },
   "source": [
    "import pandas as pd\n",
    "from tqdm.auto import tqdm\n",
    "import numpy as np"
   ],
   "outputs": [],
   "execution_count": 1
  },
  {
   "metadata": {},
   "cell_type": "markdown",
   "source": "Скачать данные если еще не скачали",
   "id": "1e55b2de226f1165"
  },
  {
   "metadata": {},
   "cell_type": "code",
   "outputs": [],
   "execution_count": null,
   "source": [
    "import gdown\n",
    "\n",
    "url = 'https://drive.google.com/uc?id=1wK6Z1_Nld00tIwKgwZmN2hhN9FSIOdza'\n",
    "output = 'data/data.csv'  # Укажите имя выходного файла\n",
    "# Скачивание файла\n",
    "gdown.download(url, output, quiet=False)\n",
    "\n",
    "url = 'https://drive.google.com/uc?id=17OhQM6PJvUtWQ5Mt-r8ACmisZ-x3S2oK'\n",
    "output = 'data/post2ctr_dataset_2000.csv'  # Укажите имя выходного файла\n",
    "# Скачивание файла\n",
    "gdown.download(url, output, quiet=False)\n",
    "\n",
    "url = 'https://drive.google.com/uc?id=1U2DhtkNLysxqiU2kELyM7QIvgjfisKPp'\n",
    "output = 'data/post2ctr_dataset_7000.csv'  # Укажите имя выходного файла\n",
    "# Скачивание файла\n",
    "gdown.download(url, output, quiet=False)\n",
    "\n",
    "url = 'https://drive.google.com/uc?id=1rDNY4tWT2g7Bzf_2ULdyRFD6FEDe2VWA'\n",
    "output = 'data/post2ctr_dataset.csv'  # Укажите имя выходного файла\n",
    "# Скачивание файла\n",
    "gdown.download(url, output, quiet=False)"
   ],
   "id": "fd1b3705267c1f27"
  },
  {
   "metadata": {
    "ExecuteTime": {
     "end_time": "2024-09-26T19:23:20.859240Z",
     "start_time": "2024-09-26T19:23:17.459351Z"
    }
   },
   "cell_type": "code",
   "source": [
    "data = pd.read_csv(\"data/data.csv\")\n",
    "data.fillna(\"\", inplace=True)\n",
    "text_data = data[[\"clean_text\"]]\n",
    "text_data"
   ],
   "id": "c9d7d5a660d988ce",
   "outputs": [
    {
     "data": {
      "text/plain": [
       "                                              clean_text\n",
       "0                                                       \n",
       "1                                                       \n",
       "2      новость конечно старенькая но все равно интере...\n",
       "3                                 фантазийные бриллианты\n",
       "4      сегодня на стадионе динамо прошли соревнования...\n",
       "...                                                  ...\n",
       "23522                        тамара выиграет в 24 сезоне\n",
       "23523  продажи manor lords превысили 1 млн копий сред...\n",
       "23524                                                   \n",
       "23525  магическая фраза уже оплачено позвольте себе б...\n",
       "23526        старонемецкая пастушья собака овечий пудель\n",
       "\n",
       "[23527 rows x 1 columns]"
      ],
      "text/html": [
       "<div>\n",
       "<style scoped>\n",
       "    .dataframe tbody tr th:only-of-type {\n",
       "        vertical-align: middle;\n",
       "    }\n",
       "\n",
       "    .dataframe tbody tr th {\n",
       "        vertical-align: top;\n",
       "    }\n",
       "\n",
       "    .dataframe thead th {\n",
       "        text-align: right;\n",
       "    }\n",
       "</style>\n",
       "<table border=\"1\" class=\"dataframe\">\n",
       "  <thead>\n",
       "    <tr style=\"text-align: right;\">\n",
       "      <th></th>\n",
       "      <th>clean_text</th>\n",
       "    </tr>\n",
       "  </thead>\n",
       "  <tbody>\n",
       "    <tr>\n",
       "      <th>0</th>\n",
       "      <td></td>\n",
       "    </tr>\n",
       "    <tr>\n",
       "      <th>1</th>\n",
       "      <td></td>\n",
       "    </tr>\n",
       "    <tr>\n",
       "      <th>2</th>\n",
       "      <td>новость конечно старенькая но все равно интере...</td>\n",
       "    </tr>\n",
       "    <tr>\n",
       "      <th>3</th>\n",
       "      <td>фантазийные бриллианты</td>\n",
       "    </tr>\n",
       "    <tr>\n",
       "      <th>4</th>\n",
       "      <td>сегодня на стадионе динамо прошли соревнования...</td>\n",
       "    </tr>\n",
       "    <tr>\n",
       "      <th>...</th>\n",
       "      <td>...</td>\n",
       "    </tr>\n",
       "    <tr>\n",
       "      <th>23522</th>\n",
       "      <td>тамара выиграет в 24 сезоне</td>\n",
       "    </tr>\n",
       "    <tr>\n",
       "      <th>23523</th>\n",
       "      <td>продажи manor lords превысили 1 млн копий сред...</td>\n",
       "    </tr>\n",
       "    <tr>\n",
       "      <th>23524</th>\n",
       "      <td></td>\n",
       "    </tr>\n",
       "    <tr>\n",
       "      <th>23525</th>\n",
       "      <td>магическая фраза уже оплачено позвольте себе б...</td>\n",
       "    </tr>\n",
       "    <tr>\n",
       "      <th>23526</th>\n",
       "      <td>старонемецкая пастушья собака овечий пудель</td>\n",
       "    </tr>\n",
       "  </tbody>\n",
       "</table>\n",
       "<p>23527 rows × 1 columns</p>\n",
       "</div>"
      ]
     },
     "execution_count": 2,
     "metadata": {},
     "output_type": "execute_result"
    }
   ],
   "execution_count": 2
  },
  {
   "metadata": {
    "ExecuteTime": {
     "end_time": "2024-09-26T19:23:21.187949Z",
     "start_time": "2024-09-26T19:23:21.172915Z"
    }
   },
   "cell_type": "code",
   "source": "text_data_100 = text_data.head(100)",
   "id": "65edef9ac820b992",
   "outputs": [],
   "execution_count": 3
  },
  {
   "metadata": {
    "ExecuteTime": {
     "end_time": "2024-09-26T19:23:25.913952Z",
     "start_time": "2024-09-26T19:23:21.220499Z"
    }
   },
   "cell_type": "code",
   "source": [
    "from transformers import AutoTokenizer, AutoModel\n",
    "import torch\n",
    "\n",
    "device = \"cuda\" if torch.cuda.is_available() else \"cpu\"\n",
    "\n",
    "# Загрузка модели и токенизатора\n",
    "model_name = \"xlm-roberta-base\"\n",
    "tokenizer = AutoTokenizer.from_pretrained(model_name)\n",
    "model = AutoModel.from_pretrained(model_name).to(device)"
   ],
   "id": "4952c85631b38605",
   "outputs": [
    {
     "name": "stderr",
     "output_type": "stream",
     "text": [
      "C:\\Users\\hedge\\DataspellProjects\\vklab_recsys\\venv\\lib\\site-packages\\transformers\\tokenization_utils_base.py:1617: FutureWarning: `clean_up_tokenization_spaces` was not set. It will be set to `True` by default. This behavior will be deprecated in transformers v4.45, and will be then set to `False` by default. For more details check this issue: https://github.com/huggingface/transformers/issues/31884\n",
      "  warnings.warn(\n"
     ]
    }
   ],
   "execution_count": 4
  },
  {
   "metadata": {
    "ExecuteTime": {
     "end_time": "2024-09-26T19:23:26.039700Z",
     "start_time": "2024-09-26T19:23:25.977561Z"
    }
   },
   "cell_type": "code",
   "source": "from sklearn.metrics.pairwise import cosine_similarity",
   "id": "55c681295968048b",
   "outputs": [],
   "execution_count": 5
  },
  {
   "metadata": {
    "ExecuteTime": {
     "end_time": "2024-09-26T19:26:53.360378Z",
     "start_time": "2024-09-26T19:23:26.087794Z"
    }
   },
   "cell_type": "code",
   "source": [
    "def extract_features(text):\n",
    "    # Токенизация текста\n",
    "    inputs = tokenizer(text, return_tensors=\"pt\", padding=True, truncation=True).to(device)\n",
    "\n",
    "    # Прогон текста через модель\n",
    "    with torch.no_grad():\n",
    "        outputs = model(**inputs)\n",
    "\n",
    "    # Получение эмбеддингов из последнего слоя\n",
    "    embeddings = outputs.last_hidden_state.mean(dim=1)  # Среднее по токенам\n",
    "    return embeddings.cpu().detach().numpy()\n",
    "\n",
    "# Пример: извлечение фич из описания поста\n",
    "tqdm.pandas()\n",
    "\n",
    "text_data['text_feature'] = text_data['clean_text'].progress_apply(extract_features)"
   ],
   "id": "67b815c9b4d11c6d",
   "outputs": [
    {
     "data": {
      "text/plain": [
       "  0%|          | 0/23527 [00:00<?, ?it/s]"
      ],
      "application/vnd.jupyter.widget-view+json": {
       "version_major": 2,
       "version_minor": 0,
       "model_id": "1097d223f58f4ec8a39f9c4359d9df1c"
      }
     },
     "metadata": {},
     "output_type": "display_data"
    },
    {
     "name": "stderr",
     "output_type": "stream",
     "text": [
      "C:\\Users\\hedge\\DataspellProjects\\vklab_recsys\\venv\\lib\\site-packages\\transformers\\models\\xlm_roberta\\modeling_xlm_roberta.py:371: UserWarning: 1Torch was not compiled with flash attention. (Triggered internally at C:\\actions-runner\\_work\\pytorch\\pytorch\\builder\\windows\\pytorch\\aten\\src\\ATen\\native\\transformers\\cuda\\sdp_utils.cpp:555.)\n",
      "  attn_output = torch.nn.functional.scaled_dot_product_attention(\n",
      "C:\\Users\\hedge\\AppData\\Local\\Temp\\ipykernel_27124\\1168027427.py:16: SettingWithCopyWarning: \n",
      "A value is trying to be set on a copy of a slice from a DataFrame.\n",
      "Try using .loc[row_indexer,col_indexer] = value instead\n",
      "\n",
      "See the caveats in the documentation: https://pandas.pydata.org/pandas-docs/stable/user_guide/indexing.html#returning-a-view-versus-a-copy\n",
      "  text_data['text_feature'] = text_data['clean_text'].progress_apply(extract_features)\n"
     ]
    }
   ],
   "execution_count": 6
  },
  {
   "metadata": {
    "ExecuteTime": {
     "end_time": "2024-09-26T19:27:16.764701Z",
     "start_time": "2024-09-26T19:27:14.912521Z"
    }
   },
   "cell_type": "code",
   "source": [
    "# Преобразование всех эмбеддингов в массив\n",
    "embeddings_matrix = np.vstack(text_data['text_feature'].values)\n",
    "\n",
    "# Теперь можно использовать cosine_similarity на массиве эмбеддингов\n",
    "similarities = cosine_similarity(embeddings_matrix)"
   ],
   "id": "9af29db61d3e8e7b",
   "outputs": [],
   "execution_count": 9
  },
  {
   "metadata": {
    "ExecuteTime": {
     "end_time": "2024-09-26T19:27:21.320095Z",
     "start_time": "2024-09-26T19:27:18.846857Z"
    }
   },
   "cell_type": "code",
   "source": [
    "similarity_df = pd.DataFrame(similarities, columns=[f\"similarity_to_{i}\" for i in range(similarities.shape[1])])\n",
    "data = pd.concat([data, similarity_df], axis=1)\n",
    "data.head(3)"
   ],
   "id": "aee0b1e39a8bcbff",
   "outputs": [
    {
     "data": {
      "text/plain": [
       "       view      like   comment      hide    expand  open_photo      open  \\\n",
       "0  9.293762  5.225747  0.000000  1.098612  0.000000    7.574558  2.708050   \n",
       "1  9.114270  5.429346  0.693147  2.079442  1.609438    6.865891  3.178054   \n",
       "2  8.585412  3.258097  1.791759  2.564949  6.395262    6.066108  4.744932   \n",
       "\n",
       "   share_to_message  \\\n",
       "0          3.044522   \n",
       "1          1.098612   \n",
       "2          1.609438   \n",
       "\n",
       "                                                                                                                                                                                                                                                                                                                  text  \\\n",
       "0                                                                                                                                                                                                                                                                                                                        \n",
       "1                                                                                                                                                                                                                                                                                                          • &#128571;   \n",
       "2  Новость, конечно, старенькая, но все равно интересная. Около 9 месяцев назад Final анонсировали что-то планарное и очень легкое под названием X8000. О чем сегодня напомнил один из подписчиков ниже (за что ему спасибо :)) <br>И вот интересно, кто-то уже слышал? Чет я пока в продаже на гугле таких не замечал   \n",
       "\n",
       "                                                                                                                                                                                                                                                                                                                                                                                                                                                                                                                                                                                                                                                                                                                                                                                                                                                                                                                                                                                                                                                                                                                                                                                                                                                                                                                                                                                                                                                                                                                                                                                                                                                                                                                                                                                                                                                                                                                                                                                                                                                                                                                                                                                                                                                                                                                                                                                                                                                                                                                                                                                                                                                                                                                                                                                                                                                                                                                                                                                                                                                                                                                                                                                                                                                                                                                                                                                                                                                                                                                                                                                                                                                                                                                                                                                                                                                                                                                                                                                                                                                                                                                                                                                                                                                                                                                                                                                                                                                                                                                                                                                                                                                                                                                                                                                                                                                                                                                                                                                                                                                                                                                                                                                                                                                                                                                                                                                                                                                                                                                                                                                                                                                                                                                                                                                                                                                                                                                                                                                                                                                                                                                                                                                                                                                                                                                                                                                                                                                                                                                                                                                                                                                                                                                                                                                                                                                                                                                                                                                                                                                                                                                                                                                                                                                                                                                                                                                                                                                                                                                                                                                                                                                                                                                                                                                                                                                                                                                                                                                                                                                                                                                                                                                                                                                                                                                                                                                                                                                                                                                                                                                                                                                                                                                                                                                                                                                                                                                                                                                                                                                                                                                                                                                                                                                                                                                                                                                                                                                                                                                                                                                                                                                                                                                                                                                                                                                                                                                                                                                                                                                                                                                                                                                                                                                                                                                                                                                                                                                                                                                                                                                                                                                                                                                                                                                                                                                                                                                                                                                                                                                                                                                                                                                                                                                                                                                                                                                                                                                                                                                                                                                                                                                                                                                                                                                                                                                                                                                                                                                                                                                                                                                                                                                                                                                                                                                                                                                                                                                                                                                                                                                                                                                                                                                                                                      photo  \\\n",
       "0                                                                                                                                                                                                                                                                                                                                                                                                                                                                                                                                                                                                                                                                                                                                                                                                                                                                                                  /9j/4AAQSkZJRgABAQAAAQABAAD/2wBDAAgGBgcGBQgHBwcJCQgKDBQNDAsLDBkSEw8UHRofHh0aHBwgJC4nICIsIxwcKDcpLDAxNDQ0Hyc5PTgyPC4zNDL/2wBDAQkJCQwLDBgNDRgyIRwhMjIyMjIyMjIyMjIyMjIyMjIyMjIyMjIyMjIyMjIyMjIyMjIyMjIyMjIyMjIyMjIyMjL/wAARCAEAAKoDASIAAhEBAxEB/8QAHwAAAQUBAQEBAQEAAAAAAAAAAAECAwQFBgcICQoL/8QAtRAAAgEDAwIEAwUFBAQAAAF9AQIDAAQRBRIhMUEGE1FhByJxFDKBkaEII0KxwRVS0fAkM2JyggkKFhcYGRolJicoKSo0NTY3ODk6Q0RFRkdISUpTVFVWV1hZWmNkZWZnaGlqc3R1dnd4eXqDhIWGh4iJipKTlJWWl5iZmqKjpKWmp6ipqrKztLW2t7i5usLDxMXGx8jJytLT1NXW19jZ2uHi4+Tl5ufo6erx8vP09fb3+Pn6/8QAHwEAAwEBAQEBAQEBAQAAAAAAAAECAwQFBgcICQoL/8QAtREAAgECBAQDBAcFBAQAAQJ3AAECAxEEBSExBhJBUQdhcRMiMoEIFEKRobHBCSMzUvAVYnLRChYkNOEl8RcYGRomJygpKjU2Nzg5OkNERUZHSElKU1RVVldYWVpjZGVmZ2hpanN0dXZ3eHl6goOEhYaHiImKkpOUlZaXmJmaoqOkpaanqKmqsrO0tba3uLm6wsPExcbHyMnK0tPU1dbX2Nna4uPk5ebn6Onq8vP09fb3+Pn6/9oADAMBAAIRAxEAPwDZVOKkCU5VqQLVGQwLTgtPC04LQBGFp22pAtKFoAi20u2pMUu2gCMLTdnNTYpDgUFERXikCinOQBVSTUbSFtstzGrHsWpXAsbaQrSxzRyoHjdXU91ORTsCgCErTStTkU0rQMrMtRMlWytRMtAFN0qCSOrzrUDLxQBmSx9aqGPmtWVOKqFOaAOrVeKeFpQtPApkDQtKBTgKXFADcUuKdilxQAzFLjFOxVHVL9NPtGlI3OeEXOMmk3bVjSu7IL3ULawhMtxMqIO5NcRq3jea5aS30xQgPHmsct+A7Vhalqd5rtxJMxZooTsQL0J9QKyDZyIVnRfnXkr03DvWEqlzpjStqzVuLnUZiv2p5GOOHEhP8/5VDF8zsfl8znIxhZMe3Y1Ne3EhsUmRiykZ2nqf/r1jNeNIQ6HbJg4x0f2PvUas1domiNSlss3FndSxMDyA3I+o7j9frXS+G/Hq3VwljqpRJW4jnHCv7H0PvXnskvm4mQ4Y8Ej1qjNydyjHcj0NaRujCdmfRgORS4rh/h94kfUrI6fdSFriAfIzHl0/xFd0K1uZEZWo2SrBFNIouMqMlROlW2WoXXrQBSkQYqqUGavyLxVUrzQB0YFOApQKdiqMxuKXFLiloATFLilxS4oAYa808Vapd3viiHSbZA+8+WAegB6mvTGFee2Vq0nxODgZXZK+fYDH8zWFd2R04aN5HQaf4atLOzWAID3JPXNYfiPRktgbiBchPmYe3eu8fy41yx4rmNT1jTy7wphs/KS7BV/+vXEr7nqtJqxwzQAKyp80UqBgB/Me4/UVyMpeG6eM4BzlSOmR0rtbmB7R2SIhkQmSIg5BU9R9K5nXbLen2iIHB6j+v1rogzgqxdilbqpuHi42SEgD37VVug0UwJ78mo4p2wMn5hgqfpV7UlD20c6jjeQfYEA/1Na7Mw3RNoGotpOt214hwiuNw9VPBFe+ROHQMDkEZB9a+b4D0Fe5+DdQ+3+HLRmbMka+W31Xj+WKtGZ0J6U00/tTDVARsKiYVM1RNQBWkHFViDnpVtxVfFAG+BTqBSgVRmFLiiloAKKKWgBj8DNeaTa2ujaw07EiRrdwhHc7ycfjj9K9LcZUivHPGdqwl2AfvFOB+Z/xrmrq7VzrwsrczW53dtrJ1HQpbiVGWQDAx3PWsOTw3LqIjnDnd5eGKN8ysT/hWldOumWlrYq8e8qMhn78ZrU0CSC7tpXich4pDG4I6EVyrR3R6jV1aRg/8I7KlnIhURlG3Qr5hYj1GT6+lc1fW/lq0bR/LnlT1B713mu3ojQhew615/fazHJN5dyjZPSZeq+xHcfrTi22RUhFRucXqFsbK4IA3RMcqanFyk2kPAR8yYYH15rR1BQ8XzjfE/KsBwaxjEIg2GypBxXTF8yPNnHlbsMiIZz2xXp3wyu90F3bk/dZXA9jwf5V5cjbJAfpmu3+G1x5WvSwk/fjIH4HNamR7AOlIaFOVoNWSRmo2qQ1G1ICCSq+BVmTkVXPWgZvinCkFKKozFoopaACiiloAQjiuI8baOzmPUI1yq/LLjt6NXcVBcrG0EiygFCp3Z9KipFSjY0pTcJJnNX66Hd2trf6jBEzlNyl+QDjB46UWes6TFA8dlPCHck7R1ZvX3NY81vHLqS6UFjmcxebarL025wy/hgH86vW/h+ayjee48rf2CDgV5q2PeXK436mXrV4ZYjnIJrmJbMOhcjNbmrspmwzCsh7lTIIoznmrjojGdm9R2rrb2+g21smPOVcn88n9Tj8K56bTHWwt7tf9VcDp6GrkkjTaoscnCumT7AZIH8qvIfO8OwxA/6ksuP+A7h/I1abikcskptnFyD95j2xWv4fvm07X7S6BwC4DfQ8Gs7UIlhvnVfunBH4jP8AWnRjcoK/e6j611XOJo+iraUSxBx0IqU1j+G5/tGkQS9mRWH4itg1aJI2qNqkao2oAhfpVerD1XoA6AU6minVRAUtJSigApaSloAQ1geKNUXT9PwD+9kO1FHc1vNXDeLtksquhyQ2wE9j3rnxE+WNl1OjDU+aV30OUN/NFrdjeLmSS3Kqoz165H6mtnUvG8M0JEQk27c5cEY/Cs++09k0s3MHLQsr8delcotwHXY55IKc/lXLBKSPQnNwenUvTSy3zCZnfa43LkYyK09BsEl1GBJPu5ckn/d4rQk0m0uWhjlBjEELlpbU7mkc/dyT2/D1pbbTbiwZJ/tQuNhUFkKhUJHQ9znP8qp7aEJ63Zzuvwi01UmM9OBioLKXaTG5Ijl4PsR0P8609fh8yWO4YHYcK2O1ZKnfvgI2v/B2zjsKIu8SZq0zL1WExy7JQdy8Bx6dvwqpDIFcZPHetWcvcxiGRhkDCk1iMrRuykYIOCK6Iu6OSasz2rwRqST6SlsWUvEOMHqK63NeCeHtWuNKvo7mA9PvIejjuPrXt2n30OoWUV1A2Y5F3D29q1i+hm0WjUTZqQ1G1USRPUFTPUPekBv04U0U4VRAtFFFAxaKKazBVJPQUABrjdQsmnRM5/dXTo49j0NbUviGzDEQyJOVOGEbrkfmRn8KzptZtWWaZCCHwXVeWBHAOPXtXHXnBo7cNTmne2hh2oeNxbyKSGVonB9QeP8APvXB6vZfZ7+aOMHBBK+wrtdYvUR5HjcBhJuU59gc1y2tFLi6jeMsTIfkKnAIPJ/nWFJ63Oqsly2N22mhfTrB7KMRslqqs2Mlm6k+/Oc//WrWljZID5RbO0MyE7hnHoOKy9He1treBZEgiW9gaIQSPmWMqTzj3GO3Yda2LPULOx3Qyp5zyoBHIpz5bE9dvX/DH1rVoyTsitPpZvNLlG4OcgA+5rgb+Eoh6h0bPXkV6ZPqkP2VpmBEtxIm45znB5PtXmGp3KDUZZc/I5/DrUU17zsVWa5VcQSG6t/P/wCWinD+/oayb1w167Yxnr+ValoDFNMoGY3jLA+nesyVN7k5FdEdGzlnqkPsZFEmx/usMH/63vXpfgbUDaLdadLMJFjIlQ99jD72O49cV5ZtC8Fvyq1ZX99aXkU1nK4mThG9B/hWhkz6FVw6gg5B7ikavPvD3jsRottrKCI5P+kp9wfUDp9eld3FPHcQrLFIrxuMqynII9qtO5HUH6VDUzdKhoA3gaUU0U4VRA6lpuaUUAKTgVkawI57OSG4UNG4wVPStyJA3JrE8QLhDjtXDXqSbstj1MJRio80lqzypGd1ltr1pJ7WCQxj5QXjI6YPXHt0q7pztbwz7PLeGbgjb8wGOD7Hv/Ot620KM/bJ5JP9eRIi9lwMc9+SKoanb/2Xo4kgRRvUkkdBnjArOck1buXCPK/Q5fVL6OS6eOSVljwF4GT0wfxqSKVJNrxEpIi4Vs52r9PWrOmeF11Cxub2YmaULlUQkduMDv61LodhALsWVzgRSQGdccMmGK/jxVxirWRm5S5rvqVobG5/tLzb5A7xr8j59fukEfz96sQ6WEQ2EU10jXU2ZMMGYHbkHPUZPf0qzeWf9nSLtZkMzhQJCX3KDxgenOcUy1vQZ45QMMssrqQmAuBjr6e9W7olWb1G3CCeZAs0rRwQNtCoF3MuF/Hv9ayv7OVYmnwCspSTazBhg9Rj1zWtaorLCo2qzRyNgg465x7duajtwGihi+0YElu648knGOQfbpSWg2r7lHS7YGSWyMS7jC3luOpOQcHH41zF6ht5zEzfMpxj0rrbecpfpd5KyeWsiq6bd2MjP16fhWTq9rFJqK6lHEfst0d5X0b+Jc1UfiM5r3DnUG9xzirkUDo6y4xEerHpjPNJFaY1MW85MWGwxHJx7fpVy7ga0dWD5IbAJHDAjII+o7VsYFqwghuL2C0iRHaeTHmbjwo5PH4V1suoyeHNTimUt9hc7Zou2P7wHqK5jwnG3/CRwNEoZdjFx12DGOfTnFdD4uw1kcdRWEpNVEkddOClRk2d4kqyxq6MGVgCCOhFNyK5rwNfNdeHEjc5a3cxc+nUfzro811HnvQ3xTqYDTgaZA7NLTNwzS7wO9Ay5B92srV4t4Nalucx8etUNSI2mvNqbv1Pbo/DH0OQha9l162sLcQ7SjOXlJHlgc/jyaoeORdCa3sFKf6PD5joi8NyefpjtTdU1BtO1W3u4mAdW8tstt+VuCc+3B/CrGtmS4tbfUlkC3kiCKJAcqMMRz65znFUldJmdTRsxNCn1Oy0WdoY0kj3lIyM5XtnAOSBzzW8IrIafbXaXMcUiqsUvmBfmOMYX05PA9x9aemmf2ZpKC2kc+TgSEjOTuww9jk1RENoupidZYti7pp1kGVOBycjuf59OK19DHyMHUDdf2uPOj2+WADGbnJ+VeSOOvPT2qLTSzSwyyfNkSuZQ2V57H/PrUE1zEZLm6lCcsGKquCAem3PJ4OPwpzuTOqo6wySRljGq4GPp05p20Juky5G7+fp8blsYf73U5zx7jtim+W0S2jKrviRly0m0c5H5eg70aWFbULKcTStHDKXkCoGkRSBwR+n40Tqk1lut87llM7BzwRu/mOOP8KGh301KIgBNv5nls8bPExaQnB5wFptqzz6WbOTlVkLISMZB4zn8MflVueIwRjdKd6qsrxx8gA9Rz3OCfxqlJI8Nw8rybJHbALn+Fhg9OmKe4tjN1C1LTQzQhl3ER4LZKsOMD29Px9Ks6tHE8C3cavsRVCK7ZAbPK/gcke1RRlZ7eaEEBogWIPJ+U5OD34zVK4Ky2Mch4YMw3bsntj8atGLOz8EsG0+/l2gM9xy3c/KOKZ4mbdbsKPAVwk2lXFtt+eN95Pru7/pTvEUeImHtXO/4h3x1oj/AIcS/wCjX8WekiN+YI/pXb5rz34dPi91CP1jU/kx/wAa9BzXYjypbnQKaXNMBpsr7EJqjMqX2oJaqSxrmbrxYqSEK2ayPFWrsZmiRq5EysxyTSbGj3Xw5fjUNHiuf7xb9Dim6q2FNZHw9lL+F4x/dlkX9c/1rU1Y/u2NebU+JnuUfgj6HlHiuSQzELyQCwH0rSt7aPWP7M868ntoLm5SCaNW4yVPIPYk8H8KzPEav5rlerAgn0Fangy9tfs9vcXSStGW2soQuVbaASqjJxwecdzW0PhMKvx2Z1smnSWVu9rBI85ZdqoxDiPA4B9zXLTwSW2lyoQy/anXzI2/5ZRjIyf/AK3tXXXOp3UKXM2laerLIyCDcpyoIC7iBycdT7DFYmq6jDqlpeWTQJHc2iLE86gnzjgEhQfu5H+e9WjNnE3CyPKbaaVWlQgqzdj6Z9CKpkmZfLYOZ4Gb5W7IeoHuDn86vXUCPEztxsUKqjqw68+4zWVO/lyzTbN0q7G/2SCOv54/WrRizotKgeS3OpAqY5QFYBvn3Lxn2GK17+wSyuIjp8ZuEuCryFl3FyRkkemP6isa0upNKt4IbW5AjlJ8xyqkrkjO09AK3JYZre8ihsUwsaZxKxyq55IbrnOPz5qWjSNjDuAZLsOmHnjyQvQOoI/XrWPfOt1HJLE4Lbi+GBwqk4wPXtW5qa7fECovlxwRtkhByXJHP+feuau5DDqEjD/UlmGAuQozimlYmciN7gJ5M7REruKyAHGWHHH4EVmSeSsMjYJlbG3P8I/xqTPk4MjBxIGJ+vT8DTJ4DHaK5AJcnGPSrMjufhwIjb3y4/e/J/3zz/WtDxHHmJzjtWN8NgTqF3zx5AyP+BV0viOP9w/0rmnpM9CjrROd+HvGrX3/AFxH/oVehV574BO3Wr9f+mX/ALMK9BzXYtjyp7m+DVHVJ/JtHbPareeK5/xRceVYPz2qiDzTVbgz3kjE96og0szbpGPvTAakZ618M336DMp/huG/kK3dYOI2rm/hi2NGuva4/wDZRXRat80bV59X42e3h9acfQ831BEOpFpE8zAO1D0JNVPDd2mn2S3M91IsMbtEY0XO3DMAfXPIH41f1QLHqkcnzEIGYgdTgE4rL8PXcgvZ4FjiaCOdpJFYcjdyuD9SRVw1TM62jXzPTtNZLTw/O093c3TuEhAjiX9yxJOR3IGcEn0BriNZnMV1LPGrRyNhQS3zbRnBPJGO2avrfXWm3Es4nR7OVMBVXcRIOpI9fasrWmna7s0uEePajAOwCqxJB2/UYzg1qtznlsYE0twEXymTfKCrbhu78/0rOSLabsTS+Y4BUkNwT0AFX5JhPqHnBAFG4tg89MgflWZCiNbzttG7acnPfPH+frWqMGXhFB/YsSzPtiLhc/eIA+99MZ6etdY6xWEgez8rb5W0OGJ3qSCOa5+S3sV0GKSJR5XBd8A4GOfxzWjfNY2UkX2C2hZflRXPAkyRxn09/aoe5pHRMbMVbVGcsCBmb72No9fqBismW4jdZ4TKFlVgSmOuTmrGpwCW4iTzFjMoDMvUgHP/AOvFZyIbvUs8BNxDc4+VecZ+mfzqkiWzKljPnFJY9g3Eqc5wCam063bUrxIWPypFK+B6BWP6mobhg1yp+YbXJcZ9+ldH4KgEj6xORkraMoPpnOf5VSMm7IZ8PZ/K1+JScebEyfU4z/Su38RD/RW+lcL4Fj3eIrT/AGUZv/Ha7rxGf9Fb6VzVfjPRw/8ADOU8DNjxBeD1hP8A6EK9BzXnHgxtvimUf3onH8q9GzXXHY8yfxG9niuO8ZTgWhXNdXI+1Ca838YX2+XywapmRyTHJoBpmaUGpLPT/hg+dPvk9JlP5r/9aut1EbkNcR8Lpfn1GL/rm/8AMV3V8uUNefW+NntYV/uonmPiItBOkwOCrZzWHptyf7WvF8jzGuHwUU46g4P4cV0Xi2PFu59DXJiSOx1ZZN5UNAGyTjLbcgfiRitaeqMcQ7SOtt8hF+wKhuFYEwDAXdwQOPX+tM8TxXDXVvZahaqiT/OmGDAFcZUnPUflgVn2l2t8jPZr9kuWZHiaQYMhGPzHBGK0tX8+5soPPjwsLNIhZerkYJ6Z6c/jVrQxeqOUugyK4toI1DMVwOMj19qabRYraVWRVIKqw7k8559h/OrrRNJfSNbW0hV1+Uk9WHGOT368elQnTluYvtNxK4ULkx+pz0I96syaNBLq0GhRyJIqRcBgR6dvf+tbKXNm2h2EcKxG2I3SbMDAA5GOx/rWJqt1CbRUVo/suCCEHfGAPqK1dRtdJtLOOC1t4smIFZlxvBx97PcnihFGHai6DPLdtEHc5G08lQMY+vQVnz3Ky3DgyKS4xI+eFGc/jxTr1nmijxCB5mFUE524Iz+p6/WsyWR5JjHHhUwEGBnhR1/TNOxm2QBv9JeRsMcn8yMA13ngizMfhnUrlhjzy6r7hUI/mTXBLCwhmeL51WTaHPG70/Tn8a9f023jtfCMUcQwosy31JUk/qTVx3M57JHKfDizMuoz3JGRBAAPq3/1ga6TxFzA1M+HdkYPDj3LLg3EmQfVVGB+uad4j/1TfSuObvM9WirUzjvCJx4sx6xyfyr0jPvXm/hIf8VZn0jk/lXoua7Y7Hk1PiNG/nENuzE9q8j1u6+0X7nORmu58WaiYLVlU8mvMpJC7lieTTZmkOzSg0wGlBpFnc/DObZrlzFn78GfyYf416def6on2rx/wHcCDxZbAnAkR0/TP9K9juADbk1xYhe+erg3+7+Z5v4qObeZfbNcDNcmC5s5mw4tyoII7Zzj9a7LxlOYmIH8XFcLPho+MHBBOauitDLFvU6bELwWVnds0SfaM28sZDAL8xPP17e5rXn09ruKP+0GAihO2MLIVC5AyeDlv5YrnpBa2kNhHLH5to82WbOdjjO4KfTJB59q3LPSXvNUvJodSKwFY8qMOdxB7HoB/Wr6ma1Qs2nSWdtPDa75YrZf3T9dwPJwf4iMkf5xWc0M6ac5aRdzoHUEfdz2PqeRn6+1bd5cTWWnvYSfu57XCNOV/wBZkZBH4Hp2NZ9pa3F5YCe8nFvvLtEWTJUDpuGeT9PWqRL8jMufI+wblZMSfeGeFx1/HrVVERLSNDJLIdwKDeQAOvTpjpWg1hDb2aBoFdXyrO69SPvNn1zWOLa5+wvm62rGMpwDkE4HPX0+lPcjYjuybuMlEyqKAxPH1PPvVRw6skQYhjF91e5bnH5EVKJz9i/1TgrjPoew/CqsUIjZbjoFfAOcEmmTa7HXiCzlktFfcoIJ9mKjd+vFet2p2+EUIJOLDOT/ANc68dmKMAWb52JzXr+myC58HwsgwHssAf8AAMVUdiKm5taFbi18P2UAGNlugI98DNc74lOInrrLLi0QdwgH6VyPiw7YXrgWrPaatE5PwaN3iWRvSJ/6V6HmuB8DLv1m7l7CH+bD/Cu8r0FseHP4jgfEmq/a5dinIrnAaRpC/JPNANMErDwaeDUYpwNIDQ0m6Nlq9ncg48uZSfpnmveVkE1mcelfPANe3+F74XujWk+7JeMbv94cH9RXLiVsz0MDL4o/M5nxRaxqTNNCZEB5ArznW4Y7aRkiJ2FVfn0Ne4axZLLExwCCO4rxvxZbyifYQAqDCYUDj0qKD96xri43hcltPMXWrSG0t2mVX81LcZYDKAk4+mOa6KylW31lxAAl1JsSW3uBtGR0IPc4xzXIeFtROn3YuTu+RShI7A118Vzpusaxd3V3bbF2RxRq3bAOWI9/049a2mtTlpu6Grql6dLnudTsFWRZ2xcmLchQHAGM8jPfH41WuNU1cabJJLYs9u2GSR+oGBgsB27+1dT9rsJ9JvCkEtxBZRvaxx+XkSYUDCnv2+nNY91qYvNAaaztpWUxESqqMcHHIz0x6n0oixteZiTwRrZeW5BW4Ak4b1zk+1Z0bT/2TuMaM68jLEbh0BI/p70LFENKUySOQ4woDEZPsPQd6rC+kaw+W3ZvKHLL9044yatGTaKRla4jYKu5y2SuOScdP1pLmNLXyI0cySjOSTx064+uaba3S24890LOpJUdiT3qu5KlJcgnPHPWnbUSaSBoXtpZEnwCyZB7N9K9c8Kyx3HhGyCNuxB5bexGQRXm9rZf2rcu11mKKCEFVQ8kE8dfrmuv8B3Tedf6TtZhC5k8xR8vXafzxkfjQppJ3CVJya5erPQLdvLt/wAK4LxpfhY2UHk12l7MILc84wK8l8T3TXF5jPANclJXkeliJ8sGa/gFfmv3x/cXP5mu0zXMeCLcw6NJORjzpSR9AMfzzXSbq70eLJ6njwNOBplKDQWSA08GowacDQIfmvQPh3qwAm06RuQfMiz6dx/WvPat6dfSadqEF3F96Js49R3H5VnUhzxaNaNT2c1I97lxNAR1rz7xTpQmjYheRzmu102+jvbSOeJt0cihlPsarataCWMkDOa4IuzPZklJWPGdJul0LxJaXVwgNuswMikZA9Dj2JzXr15YaT8QdRS8k1IW6WVqFuprVA5d2JKrkcHABJPPUCvMPE2mmJ2YLwaTwLqdzBd3NrHeJAjRHdG67vOAP3QD35OPxrsT5lc8tx5JcjO1s4NV0RbzTbWD7TBZzExSEhVkLKGAwf4sEfn9K5m0142WnR2zM8ZidiyqpySTn+fr6Vqw6xqGjXd1asZb3Mi3QdSOpGOe3QY49OKyvL0240yS6u0Zru5ldvkyNpJP6ChIbb6GNN5BsjKyqquDtRW5LE8k+gGT+VU/tgWwEeGDEANx1HYVd02O1+xSyyJHLIJCCpHJHb6CqgMIWYgA5DAA849KsxZn7ma3YBcc5z29KTy0W3R+C5PT6Uqea0UixrlQd2e+B/8ArqeC3i/s2aVwOmFJ67upx+lNuwJXLMUOqvarf2kMixg+WGUglj0wB3Fes+GdDTRNKWMqPtEnzzv3Z/r7Vy/w+P8AaEarJCwFiNqvn5WLEkDHqOf0rv7iQRxGuSrJt8p6GHppJSOe8QXnlwsAcV5bc+ZfaksMfzPI4Vfqa7HxTfYVxmsrwXYfaNQlv5B8sI2pn+8f8B/OtaEephjJ9DtrO2SysYbaP7sSBR7+9Pz70rHAqAtzXUedc8moFJRmkaEgpwNRg04GgB+aUGm5ozSEeg+ANb5fTJn/ANuLJ/Mf1r0Fx5kZHWvBLW6ls7qO4hbbJGwZT717PoWsRatp8c6cE8Ov91h1FcdeFpcy6nqYSrzR5HujB8S6V50D4GTivJ7mOSy1DcpKsDkfWvoC+gWWMggV5T400UxMZ4lPB5p0ZWdgxVPmXMuhX0jWm8mRWjWUsyuSRyCO2fTip7a1GqyXlyw8uMyZZFkC7c9yM1y+m38tkZAER45PvB0DfiK1YmubqRriHchkOF8tTgnpjit2tTiUrqzJZIraxuLmLf5hRsJtGNwIBBz+NUFWJmkkdd8SdQD1OOAP89qkVlQS+ashnRslO3HUtVJUa4mbbwCfpTRLHQy/uZIUQszEYOeMDP8An8K0dD0eO8tpZ5kLKGKEbiNh9ar6YgF60Kr5pwSpPAI7k+nStC30+4HiSO0eYSLeNuYRMQjd+R3xUTe6RrTjtJq56F4J08ad4aiP8UzNMT6gnC/oB+dXNUu9kTEmrh2wWwRQAFGAB2Fcd4j1Lyo2Ge3rXNrJnpaU4W7HJa/eG4ujGvJJ6DvXcaLYDTNKht8DeBukPqx6/wCH4V5fLI00rOSck9fSvUrC7S60+3nQ5WSNT+nNd0FZWPGrzcpXLbtxVctzSyPxVbzOaswP/9k=   \n",
       "1  /9j/4AAQSkZJRgABAQAAAQABAAD/2wBDAAgGBgcGBQgHBwcJCQgKDBQNDAsLDBkSEw8UHRofHh0aHBwgJC4nICIsIxwcKDcpLDAxNDQ0Hyc5PTgyPC4zNDL/2wBDAQkJCQwLDBgNDRgyIRwhMjIyMjIyMjIyMjIyMjIyMjIyMjIyMjIyMjIyMjIyMjIyMjIyMjIyMjIyMjIyMjIyMjL/wAARCAEAAMADASIAAhEBAxEB/8QAHwAAAQUBAQEBAQEAAAAAAAAAAAECAwQFBgcICQoL/8QAtRAAAgEDAwIEAwUFBAQAAAF9AQIDAAQRBRIhMUEGE1FhByJxFDKBkaEII0KxwRVS0fAkM2JyggkKFhcYGRolJicoKSo0NTY3ODk6Q0RFRkdISUpTVFVWV1hZWmNkZWZnaGlqc3R1dnd4eXqDhIWGh4iJipKTlJWWl5iZmqKjpKWmp6ipqrKztLW2t7i5usLDxMXGx8jJytLT1NXW19jZ2uHi4+Tl5ufo6erx8vP09fb3+Pn6/8QAHwEAAwEBAQEBAQEBAQAAAAAAAAECAwQFBgcICQoL/8QAtREAAgECBAQDBAcFBAQAAQJ3AAECAxEEBSExBhJBUQdhcRMiMoEIFEKRobHBCSMzUvAVYnLRChYkNOEl8RcYGRomJygpKjU2Nzg5OkNERUZHSElKU1RVVldYWVpjZGVmZ2hpanN0dXZ3eHl6goOEhYaHiImKkpOUlZaXmJmaoqOkpaanqKmqsrO0tba3uLm6wsPExcbHyMnK0tPU1dbX2Nna4uPk5ebn6Onq8vP09fb3+Pn6/9oADAMBAAIRAxEAPwClilxS4pa+kPFExS4p1GKAGYFO204LShaRVhm2nBafilxQBHilxTgKcFoGIBUgWhVqULSGIq08ClVakVaVxiqvFSqtIq1Mq1LYxVWplWkVanRKm5QqLUryxW0DzzyLHEgyzN2qO4uILG2e4uZAka9Se/sPU1wWu6+17++uCYrRD+7hHUn+p/lWVSooouEGyxr3iN9QDfMYbCM5Cnqx9W/oK4XUtUa5OxcrD/Cndvc1Ff6jJdSc8AfdjHRfr6mqqx/xMcsa45Sbd2dSSSshFUudzflUo9+lJ0p2PWoY0elYoxTgKXFe2eTYTFLilpQKBiAU7FGKdikMTAoxTsUuKAG7acBTgtOC0h2ALUirQoqQLSbKBVqRVoUVKq1DYxVSplWhEp8k9vbLuuJ4oh6yOF/nUtlJEiJTby9t9MtWuLl9qjgAclj6AetZ8vifSYFby7j7Q4HCxKSCfTPSuF13XZbmcy3DK02PkiH3Y1/z+JrGdVRWhrGm3uT674gku5VmuOFGfJt1PA9/8TXHXl7LdzEltzDjjoo9BTZriS7kY7ic/ec9T9PalWJVXCiuRu7uzoS0siNEVOvJp9AjCk09Uz7CpY0Iq+nJp+zHXrTsheAKCM9efak7sZ6OBTsUAU4CvbPJExSgU7bSgUAJilApwFLikNCBacFpwWnAUrlDQKcBSgc08JUtjBRUirQq1Kq+1S2NAq1Kq0gWpVFK5SRS1i5nsdHnuLYL5qgYJGduTjP4V5syyTXW+Vnd2O53Jyx/E16pfW/2rTLmADJeJgB744/WvJLiS7YkQQTLxgsY2z/KuWs3c6KRJealHZxeXEwMg6sedv8Aiawiz3TFmJCE55PLfWrD6fK2N8UufUxmkFoqn5gw/wCAkViaXEACrhQAKAS3Ap/kwYwMZ92pVgAztc8+hqdCriBVUZNJnPsKcYGxkuTTVQgjJBpWC49Vz0p+0CkAI/8ArU8YA5BzQCZ6MBTwtKFp4WvZPKQwLTgKeFpwWlcaQwLTgtPC04LSuUMC04LmnhaeEqbjGBaeEp4Wnham40hqrUgFKFp4FS2UkIBUiikC1IBSbKSHrxUqs394/nUaiplFQ2UiRGbHU/nVc6nZprA02aaBZ2hEqo7DLZJGMH2ANWlFecXGl2Nl4ge3vEa6kd3meWfDM67GPJ9iP5VnKVi4xuemNZWko/e2ls/+9Cp/pVeTw1oVx/rdHsm9xEF/lisex8bafdW4SG2nmvAdq2doplbHY5HAH1qfzPEOqH97LDolod3+qxNOQCB1+6vXHGealyQ0mVtc8JeD7KxlluYY7NyjeXi4ZSzY4AUk559q4HTvCU2sXf2bT0k37QzSyuojQd88ZPbp616hZ+F9Mtnkle1a5u5I2zNeP5rquOpJ4DE46Yx+Fc54Af8A4mN2GheWNrbYwAzkhgcf/XqGUjMn+F+qRIDFPDK2ORjHPt/+qsi48E+ILZWY6ZM6j+KMbv06/pXt0CNHAiOcsBzznHtnvjp+FSjrUuwzzcLTgtPC08LXqNnnjAuacFqQLTglTcZGFpwWpAtOC0rjsMC08LTwtOC0rlJDAtOC08LTwlS2VYYFp4WnhKkC1LZVhgSpAlOCVIEqGykhoWpFWnrHUipUtlJCKtY2q+ENO1nVYL+5M4eNSrrHMVDDHH075x1rfVKkC1LZSRk6D4ftdAFytocRzMCFC42gdAfU89a1o7ZFkD/McZKgnhfp+dSAU9VrNyHYRreOZxvUk428MRkHscdRXn3w8bbrV5H6Bh+R/wDrV6TGPnX6ivNPA4MPjO/hPaSUfq3+FTcqx6WBRin7aXbUcw7HnwWnhKkEdPCV6dzz0iILTglShacEpcxViILTwlPCU8JS5h2IwlOC1IEqQJUuRViIJTwlSiOniOpcilEiVPapFjqZUFSBPapci0iIR1IqVIEqVUqHIpIjCU8JUyx5qRYqhzKSIVSnhKnEdOEdZuRSRAFqRVqUR+1PWOocirDUXDA15n4cHlfE6/i6f6RIP1b/ABr1IJXmFpttvjDdIzAFrk8fXH+NJSvcLHpu2lCe1ThKUJWbmOxwIjNPEftV1bcnoCfpUU1xZ23/AB8XdvD/ANdJVX+Zr0nURwqJCIqcIvaov7a0jOBqED/7mW/kDS/23pI+9dgfWKQf+y1PtEXyPsTCL2pwi9qii1rRpDtXVLTPo0oU/ritKJFlTfEyyL/eQhh+Yo9oh8jKojp4jq0IqUR1LmUokCx08J7VOI6esdS5lKJAsftUgjqdYvapViqHUK5SusdTLHU6w+1SrDWbqFKJAsfFSRhJGKowZh1CnOKyPEF5sMNhCJDNIdzsnHlrg/MTn/GvPtS1m5XRJre2ujErSAmKOYZUDryOvTseOKwqV+UtQOp8TeO4dGuJ7G0tzPdpxuP3VODn8uPbrV3wp4og1XTgL2dFul5OeNw/x9q8geeS9mkmuHaSZsM0rPlj7dOta3h64tNPv0utRnMYABVPL5b+mPyrmliHzJplqKPdBGCARgg9xTxHXHJq1/rUEEVlgRyRbhEDjK5HLH6dq7KK7tvPjtWuIzcsv+ryCcjrnHQ+1ae2THyDljwRXhd5G0PxI1Ddzi5lxk5PXNe/iOvCvEaeT8Ub1TwGuGP5x5q6c7tkyjY9u2ZJPrzThHT7YCS3if8AvIp/QVMEArndQtI8Ak8a+GWP+kRapfn/AKebv5f++Vwv6VJb/EXw3aH/AEfQo4vddoP/AKDXlBjZWKtww6g8EfhTgMdSgr0fmc9kezw/FTRmGDb3K/7sgOP0Fadr8RfD05w11cRE/wB8Z/ka8KRGfhSW+gz/ACq9b6PqN1xDp13Kf9i3Y/0o+Ycq7H0DbatouqALHf2s+7+CUjP5MKfN4Y0mQ+YLCOCQ9JbbMLfmmK8TtfBXiqUg2+iagvuYyn88V12i6F8SdJHmQARQoNzJc3KbcDnpk/yqHJdylE6nw5Ldy69rNo17PcWNo4jhExDsD3+bGT0PWun8r61zvw5jkudAuNSmGJb25MjfkP6k12Pk1m6yTKcCj5a+uKkWEDncxq4IqJmitbd553WOKNdzuxwAKzddDVNkKwjI+9/SoNTiP9kXhQzq/kvtMWQwO04xjmuYHj24Z2VNPjRQplDsxPyA+mOpGB7GtU+NtNMca3Uf2e3lgJlmdvlBIwAoxk5/wqPrCbsUoGzpoM2mWcuWy8EbHd15UdasXInitZHgg86YLlE3YDH61ieFfFmiala2mmxXBS7ihWPy5kKFyoA+XPXpXTXM8FmEaV9odto+tKVWzsx8h5PqlhNYxz3Ov/aprabPlqJMJDv7noWwQOv41zf9n2PnNawagPJxtWaZNgIOBx6j/wDXXU+PBJfXbNAD9jVgczXATzs9RGD7gDPGegrjrO6fSWmikgUYBXa3zAZ7A9hx2rOpK6uCVnqV7W3kgZjDtYRswDqeMg9efeq8rBpSWjDEkYRgcjIzzn3px1aQzkWyCKFTkIhOFz7nk/jVnel2Ld2V8qoSQgF2PPqepx2rDWPxLcqNpfCbnhbUpTJ9gWwlkLsN5QfdXnoCeep/CvSJnudHga1sbXEhBYyRHdlemeRkbfT361wFoItLgjlhnmFw8RBIGM+oGen5dutaeg6ndf2jbfapybcnyyszkfKTwMn3rH28Y6G/s2z0rR9QjvYmixMJoeJPNHfkde/SvH/G6eV8U2IH35Ij+aAV69pqx2DG02iMSM0kShyw28Z5PTr0ryj4kKYfiFbSj+JYG/Jsf0rqw1Xmm15HPJHsGlN5mkWT+sCH/wAdFXKzdEfdotn7RAflxU95f22nwGe6lWOMHGWPU1xyrpOw+V3seR+Ite8Ma9r+gmVra5tY7hnuJDATuO0BUPGSCSOOlddEfCdsQsdlpsRBxxaKPb+7XjBNtaX1pDL5cZaNTEoGdxZhg8d8Ac1fm1mwfV/IR5Gla4ABCt13+vSvTq0583LCVrJv8QhyWvJdT12bxJotjcafBCYZPtpIia2VSABxnj34rocPkjLfTNfO0niKw8w/6PK7ISATEOB6Amp28Zs2eL9ieTl+v/j1W8I3tIz9rFdD3e7v7aztnnlkVlTGQGGTmub1LxGW8K6jM+xH+yzqu0/eJO1CPqG6V5PB4pjMm028ypgk7mGP51O2pSX9vPb53IkaNu3Z4LdP8+tYzo1ISSTujWE4SXmeu+C/s1n4S06AzxK3llipcA8kn+WK0NY1y20jTzdEC4bcEWONxkk+/boa8IF7A6skupKiFt2xkcgdsHjHb8Kna5sYI4pJ2LpIeH8t1DD1Gev0qvqs5O9xurTS3PUoviBEIw8+nFQTglZhxxnuKTxH4p0u/wDDTQbZDLcD5UyBsIPXP8q8wGp6EqgK0gAPdWNU2vNEkkZvJzhgVLISSM8/SpeCqR1uSq9OWl7HVWlxazsgvIZRGkHlK+8DaoPU446f/XrLTUbaXWLWJCLhESWUR5/j4C9uTjnjNYutajayRiGw3CHaC4wV3H6ZrZsY7K+0WOOzs1NzHEkgmICkP6huuetXSocnvS3NIe9L3ehsRL/aN5bRXCxQeaAI2B/eRSZ6g+ue3HFdPq+u+fp0cM8jvL5YiLJxh8Ddk9+9eb2esQWGrPBLaZnhO55PN/djHIYfzpJvFNhdanNHG0nkEkpKc4OecY/rWdejOb91F1akVHuy/rerXs726SSsViX92oxhT2JGOe2KqJNFcxxfap8jy9rbExjr1HeoLiUSPncCB3+npVfzIMDaCCOjDrWDpvk5UcSqNSuy5c6dCYi8KsS7AqQ3Qd+oqSwgS1cSCOdpSy/dfZnnpn1+lV4roiPO5nGeSe1SKI3KmVJGBbrnrj0rFuaXK2bxlFu6Rs7o7uTbLbgSHgFZGYK3f86jfVnt54mgiaNkONrcEcYxjoadZXFvJdhvL+ZhhcAgAev49KqajILy4DBY1mQAM0ZPzDsea56dPmrck0b1anLC8WdDd+P7tNT0u5+zxqbcGORTu5B6/pWH461ltX122uwqrsjVRtBHRic81TjukVVUAtnqR/8AXFZ+qzPIsDODgBkDepzn+tenQoRhUVvNHM6nMrHpFn4yubCKOFW3RxZAXHXNYuu6zcazeO88mY1xtXOFHuB0rC89JoFLzRx7jwepHHcUkrR7eJlk/wB0YFYvCxu5Ip1rdCqt7pX2/UY/sMQjECSWzSOQYQuMYx1JPv3rIfzE8QLJsO0XXJA44kI/pUlppcl5eTykRiKKNVXcCd5H8PHToOvFbdxPpbu5WQNICWUsuDktnqBjvXe3+8duwpxvCPTU5SaK5W8lxCxAkbqOOpp6xag8xAMgOMg5/rXVx3drNe3AWNEjBYq5kUb+eMfn3qUyRs3FuhPYswx+lbe1Vve7dmcbpcrvc5L7G8qBZZUSXoBs5Y++K0IbaTTobiSR1bdGse1D0bI610KwSOP3UNvGcZOFBaqV5HJmCIt80s6EZTuGyO/PPaueWKTfLF3Lp0veuZDeFdVzh0VQ3Vtw6GtS+0q4u9GsrSN42kt8BsOOcDFbc9zrqM0iXqMhPCtBtz/n61oQ3l/LGsgSNRkA/vGPb0xXnSzTEpX0/r1N4Yejqnc4EeFdTI3GCR1H3vLANa2m+EvNu0kvIZLeNEXdC4H7xh1PXIB6109w185JW4RDtGdnAP5nIqB5ZpELXE2fLBYOZNuB9M1VHMq82nK1vK9wVCjCXX8Dz7UbC5j8Q/2WiJG7SKke45BB6MT9P5V1i6He2FhHbjUre6gQn90QYwo65Dc/rXA3979p1S6uC7bpJWYMeD14pjajdratbfaJBAxyyZ4Ne04cyQQqxg3oP1Obz9TuZMptZsARvuUge/GelV42CsXJwB3qNVYru4CnIBY4BIGcZ9ajT5yCxwAfTpWq0VkYu7d2d7pVpPe6RFckIAHdFZmA+UEjvTLjSr7aGWEOCflCEY/Q1L4ZMt/oQinZohBKREyEcg/Nyp4JGetX2gMHMEw2f88zJgfXFeLOU41JR03KlOmtLGTbWNzJE7+RKrrghCCC30qaJmEyxSR/MMg5OeTzgVfN1exMo5HB2gvuB/nUc08DFDLab/LyCygrt79utZvmk9UEZ00rq9yKDUIYVMUqtJuypA/hz/LpVfzQ88zx75ERhgv1qK4msJjwVgOc5RGVvbknnvn1qckJD84lZdvOwDP61vGilK63YTqOWhSSOcyYZRHAGOeeSPw602/lR4oY1PyxE4/GnFpZA4+zuBjKlyf6VmyxsDibcvptwa6IRvNMldzc06aFrZFmZdqtkZ5JOB/gKvXfmTsZfsbOr4BeFMnOO+Oc1iWVz5NuVt5JUkwCWIXH4dxV6aa5u0dI53IB67iM/lWFSmlU5i3LSzKkcUMmirNIr5ZpFYo2eN2c7c9iBzVK7h2C3VSyscl/m8oj8/vCpIpc2ltFKu0pk4ZOepJ9/Sh5R568sAoOCvQZ+vIrthFoUpN6Mq5kUABptvcja/4UwPI8gVZCc9mgwTVwtE6sSm4gdWQH9Rg1BL5cS5LIB0+ZmXH51pzCWo2xLPrtugusK+RxJgDr1Hc+1dJcKq6jYRNMZhvyxxWFpztNr9ufMlZVXBImWTA+pHT9a37zadesQucBWPT6/wCFcNZ3nr2Y23f5M1kufvKk8hH90sBSPGiEEvLt/wB/iqcluPOLG42w4Bz0PvQtm+MRzh1PqelcKhFbHNzSJpIrSRsBmPrh6f8AZbX7PJKAW8qNiGLegJqr9lmjYJG4QY42+1Pk+e3KSn5duzPc8H/6/wCVXZq1mLmPLJHLDJ78moi7AYDHH1rW/suykQlfEFgv+zLHKh/9ArLurZYGwt3bTj1hcn+YFe7dHS4takoundXUnarsGZB0JAxn9T+dPQqzLkDOaqY4pUdo3VlwSpBAIyKNhb7nqGj2a2ulRpcEozqHIDbTzyMH6VYaNGkH+kSKwXkkjB9MnFU/DOsJq2nE3JLXUJxIwUDIPQgD8q1GVR83mOVc5AI7fWvGqtxqPm3Mqlud2KhshI+8XMjqx5Vckfh6U+G3SNyrNPyMAMoO2pB+7ztjIUHgDnj1qMtPsZgVO3GP8Kzcmxp9CWWKGTdGQeP7wH+FUDbxQgtDayt6gMf5VaacsuDlhUMtzHFGfmIIPQt1PvRGTE7XKxu4lCzTQlRnAIByB0Gaz9dlikt7eWFVA3EEr1PHetm2uftYJDqRkgDqT+dZviRV+xw4UAh8Ej3BropP94jWMXutipoZD3bKRnMZx69RW4bB3AwzKeoVlrC8Pxst+kjkqu1huxntW1dSGBTLDIHYZJyCaK9+f3RuOupnG6huOfJ/4FC4bP4VWlFsu6RptuBgl1wfpzVESvG24rE57kgA/mKWCcSXIWUbsJlN5DD3r1ObuLlGtcW5bEXmTHttjNPiD3C7JZJ7YA5U4Byfp9KmktTLKJI2jib1QbePoOKaunNCfN84sRnhhuH55/pWNRTewrvoMs7Z0vpZmlR/KAG/aASTjpj/ACavGa6fUYCFHmCM+XubqOaoRT+Sm4w78kthWAI/CmNfTyXDzuCjIvyKRjAzXO4Sbu10Gr82vY6uGSeSD9+qKR1HUZp5gjLM3ViMg54/zxWVYyvcW+wuihgevr6/zqCOG980g3kIx8xAJ47CuR02r6mFjo4TOCBs+TH4Ul7LLZ2sk5CCIISx9OKrBJjF8lyd2OSR64rn/E2oTxWSWTSbvNO5/oO35/yqaUHOoooFG7OSc1Xk6ZqUmpdOtorzVba3ncpFI+HYemM17blZXZuQK2RSmoUJwBmpCeKAOh8H3httaSNmIjnUoQO56iu9WF9z7WBBbjJ6e9eX6O+zVrQ5/wCWq/zr0tZEMh8ogH3P5f1rzcYvfv5GdRbMsyxLEgJIBbglTxzVSW5ljjIjjDEHHI6jHWm3btJJ5RUPG4+Vh9P0pkbGKABmAbH3uvHNccVdJkbEa6m+drxuDnBHPNSPa21wA0ykBucE+1LG6TkFsOVOPx/z/Ko3tTLKGQtiM555yCavReQImW2jY4QbVBzkH8ap61AkdiZW+YCQEd8e1TSAK3yuFYfKQe5HeoNV8x9DmaSQMVwcj6iim5OaN6cuXQy9Lui2oQoSVUkrx2yDW0YY7ckkl0xgqOOnOa5jS5duo25xn96vArsyQwDPkHO30BraveMtNgqybZz5sQxyrAH6VWuLVoisgTc6HPyr1HcVu+WucFMmkSL5iTwO1elYpMyEjZuBBI+emcIB+J5/Spfs8pUgiOIHj5QWP5nj9K1gCW+8QB61II0kO5z04AoAy0tIPLClc4GKj/s5Wuopo8LGvySKTz9QPStoweW4wF+gpQvzD5cknrTDYybjTI/IAt7hg4GR8uRn36YP51nrY3ds2d2585LGupK9WAzjqMUCLIxn8qlwiyHFGNY3pRWF2pEY/iUZ5rG8TG1uYIJ7TefKyj7vQ9D+f8669rVM5T5e2aoXGlQTRMg43KQcJyaxjh1CfPEXLZ6HnHetfRNMuJLqy1FoibIXSxO4PIzjPH49ayJR5bsPQ161p2mrH4AtYAoDtb+aT33N839a1qysrdzopUue55HPCbe8ngbrFIyfkSKO1amtWDDXHKE/6V+8G7j5j1H5/wA6gn0e+t/vxrj1VwaqM04pmSi2rjtDi8/W7OHON8oGfau6GnSQeY6NlcfLnqK5Pw/pN0+ow3IeONYpOSx56dh+NegRpC24F23E9c59BXnYuryzVjOe9jJtTcq7RSA9Tg/5/Grc8LSxeSr8j5Sc54z/AJ/OppIYHkLLKx3cAj2x3/P86kEfSRQW3NzjqAB1rkdRbolK5TjsZ0iJdgSOWA9KmjUuzhspjHt9amInSZwWzyMDHBH1qvczpvUNvACnJIx3xS5pSG2lsS3NjBJ5cmcFOvP4VmX0IGh3AyW2pj8Ryas7hFLIHbcnUfTj9ahvWDWNyiI2GQjkex5q6blGSTFfU5Szcpdxt6SKf1rtJb12QrLEUIwd4H9O45rh7dcXSq5x8wB9ua7jy5Jdu5Ruxxnt3rtxErSRpKVh2zaepz79qAu371SbGUjeuCfU808dOFz2ruLIljUHn5s+tSBV3kbiOaeAiISzKCD0A60DY2CM8Hk0ASiHjcdxUdAOtL5YDnjaO4pCRtO3JA5PNMeUyKNqjj37UCHOg52nn9KiAIOVAAI6AVIFYqVYAKB1I6035dx2/meopgR7m3cgccZ7VImMhj270zLKMMQ3PHGDinHBACA5PXmgR5RqEZjvLuI/8s5HX8ia9rtgF0a1hPa3Rf8Ax0V45ry7Nd1IAdJWIH6/1r2C1Ik0y1cHhoEIP/ARXPX6HbhN2cdrOmW0tnZ3kYljnglAYM25XBODjuDnBrL1GUq2Ca6bUIAun3C9dkm7p2BB/wAa5DUJFmlIUjGeoqu1iEuW68zR02Cd0XyhnahY+mT2/StWz+1GOVVhfI5J5yMf/rpFNvdadHJAxhbaFbb93cPUds1Xe+khlUR/KGHzEngntzXHWg3scc4NS1NqBnigk81QCrA7QOenP1qSXUGhlVVTJY8YHsQfyxXPRalMzKTLuGBlc8kZ5qd9V+dmG0HccZ9fT+lcUqD1uhbHRkRSBmkbBJwQD+P+NRT6ctwY5EYb1XbxXKSX9xsMnO3hhjnPb+ZrVtdReCD94cjjHPSsnQq01eLC66mkli2zEhXcm4LnvUOfs9nKJDu2xmPd0HIPrVO+1GQltrZxtPB7etUbq6M8w3neoZtg7YHBb6n+VbUYTesgVjFS3MmoKxkiAZgxHmDPv+td/askltC7gEDpg5BIFcFaxl7oTAgrjB9sDjFdHbXC+TmHCsv937rfUV0YpKTWo20aZI3fL69KMlVzwCehxmmrgtgnacdDSNJ8gAJPua9UskO3yzvPPOMmmK4VsDByKhBDdRnj0pm/5juPf8aALyyjbySD35pBKyKSCD6dqg3DA+bnOemaBxhTtAz82DzimBaE25cYbcRxntUf7w524x1x0qJl43Y6fxY6UFnJHzA5/CgByliQQMDJGM81IGClUbI98VCXkBGSBk9fWnBmOcEfT/CgDnLXw6utePrmKYE2cQE8/P3lwML+J4+ma7vVryLT7GWZtqQwoWIA6ADtVbRbYWpvrrIL3DIue4CLjH5k1keJZ7fUHg0eaSRfte4nyzgkLzj8T/KuWb558p3UrU6XMVNK1B9TsPtLcPJIzADsD2zXJ6xbtZazOkfETESKvsfT8c102l2otFuLKJm228xCljzjtk1m+JISUjuM5MZ2HA7H/wCv/Otl8JzS+O5W0vVPszbQcowwwrpNiNGsseFVhnHbmuNWzEmitew5EsMhEq/3l45+o/lW9oF99ut4bBSPtBJVAWA3HsPrRHR6hK8l6Fme1VyDhU5+8i5/MVTls5bbLbhJGxGdqZyDzW6EZCUKHcCQysOh/pUUlksh3AlSO4/zzRKlF7GJixTRiPyuTglVBwe9JLKI9ka5A2j3x71qm2tiQtza9/8AWwfKwPuOhqKXRg0bz20yXEYHzY4ZB/tCueVFolxKQZ3jw2N3PXgHApkqYRH86MKUG1N3zE49PSlRJ7NCzAI7KxjLKCAM4OM5FUDcNG7B3DqR93HH1pKGhUabaL9nhIXRsbt/HHTsasqwjOE+btjjBP8AnNc9LdvLMCzEgHj2q9BdkdcHvz1qZ0Wxui+jOvMgeNTnPbaRxUYb5zkZpuTK+ABk9/Wl27TjnPfvXcA8ewOfypCmATtH5UpA+8CA2aCTjJJz6UAAcAAYzj8BS/LuY/KAe1QeZgbc5x6/4Um9sBVySTx3JpgTM52kdMnjmo9xGeTknsKj6sTkEd8etLJnBJPGM8cAmkBY875QuQT6GlDZYcYI9KppMrk4YYHYCle4EK+YeNo3nr/nNAG/E5j01SOrEn9a5s29vq4n1WML9otJVWKQPglQTnj0PIrQtr6MwwadcebBdW58u4hmJ3oepJP0Oc0tr4bOlXLzeG7uO7CN+/srlwx55yDjuPUfQ1hCD52zqqTXJGKKkJAnuGIIMjLhsdcKKp6xtfSrpWB+5ngd88frWxqmlR6ZplvdSzbLyTHnRFdqgnnEfOcL0561xus6n50JtY23KTl2x1weBW9rHM3ch0S6X7Pc2ZXMk4bywemdtVdChLatZKpbcZ41B6YywFaugaP5Tf2rqMqW1pHE7RpwZJm2naAPTOOTVTw1vk8Q6eiEbnuELDtjcGP8v0pIbO3v7r7Tqt1Mg+WSZ2BPHGeKgDrvIzt5J5OaYpy52t8uTtGP89qEALDIOBVEsedy5Byx9PaoXRWbcEMbeqnmnEgDHKkHgHqKlPzADpx3oEZOttNJ5DTMrgKVDBcE/XHesCa3c8xnPsetdLrIUWkfHO/I+mP/ANVYZrGWjOiGsTIJKvhgQR1BFTRS471oPGkq4dQw/lVOSyZeYm3D+63WlcbTR//Z   \n",
       "2                                                                                                                                                                                                                                                                                                                                                                                                                                                                                                                                                                                                                                                                                                                                                                                                                                                                                                                                                                                                                                                                                                                                                                                                                                                                                                                                                                                                                          /9j/4AAQSkZJRgABAQAAAQABAAD/2wBDAAgGBgcGBQgHBwcJCQgKDBQNDAsLDBkSEw8UHRofHh0aHBwgJC4nICIsIxwcKDcpLDAxNDQ0Hyc5PTgyPC4zNDL/2wBDAQkJCQwLDBgNDRgyIRwhMjIyMjIyMjIyMjIyMjIyMjIyMjIyMjIyMjIyMjIyMjIyMjIyMjIyMjIyMjIyMjIyMjL/wAARCACqAQADASIAAhEBAxEB/8QAHwAAAQUBAQEBAQEAAAAAAAAAAAECAwQFBgcICQoL/8QAtRAAAgEDAwIEAwUFBAQAAAF9AQIDAAQRBRIhMUEGE1FhByJxFDKBkaEII0KxwRVS0fAkM2JyggkKFhcYGRolJicoKSo0NTY3ODk6Q0RFRkdISUpTVFVWV1hZWmNkZWZnaGlqc3R1dnd4eXqDhIWGh4iJipKTlJWWl5iZmqKjpKWmp6ipqrKztLW2t7i5usLDxMXGx8jJytLT1NXW19jZ2uHi4+Tl5ufo6erx8vP09fb3+Pn6/8QAHwEAAwEBAQEBAQEBAQAAAAAAAAECAwQFBgcICQoL/8QAtREAAgECBAQDBAcFBAQAAQJ3AAECAxEEBSExBhJBUQdhcRMiMoEIFEKRobHBCSMzUvAVYnLRChYkNOEl8RcYGRomJygpKjU2Nzg5OkNERUZHSElKU1RVVldYWVpjZGVmZ2hpanN0dXZ3eHl6goOEhYaHiImKkpOUlZaXmJmaoqOkpaanqKmqsrO0tba3uLm6wsPExcbHyMnK0tPU1dbX2Nna4uPk5ebn6Onq8vP09fb3+Pn6/9oADAMBAAIRAxEAPwD3M9KgZsGrB6VUn4poBZG4qHBY0wyZ70olA70xEypT9tQfaAO9Ry3YReOSaUmkrsaV3Yy/EFtd6jAbW3cxxkfMw6muP0zwZc6eUsRM0qFy/p8x7mvSLNzdS7AuABlj6CrpgjWYlVHHFYQvJ8zLlZKxQ0jTF060WFcE9SfU1qdKaOKWtkQBNJRSZoAZKM1Ftp1xMIx1qr9qX1piJ8UYqD7UvrSfal9aQyxto21X+1r60ou19aYiwFpdtQC6X1p4uV9aYrkoSl21GLhfWl+0L60CFKVGUpxuF9aja4X1oGBWkPyjrSfaF9ahuJRtpoLjs7+aUio7eQMnNOeRV70hjGXNNK1FdajbWds9xcypFDGMs7nAArzzxJ8U4To7yeGkN1KZPJ80rja2M/KD1wPyqW7FJXN/xb4ysvDEAj/1+oScQ26ckk9Mgc/h1NeYaToGq+PNdfUPEX2lLYHdHaD5ZJiDgA/880Hr+XrXT+D/AA1dXSQa1b3V1/al0h+16ldwg+RnqlqD1bsXPbp6V3C+H1srdoo7h7SBz85B3TzH3b/P9KS3uxvayOzJxWfeShRVyVtq1myRmUkmqJKbz4qPz/c0lzGVbFQFTSbAmM/uasRyRlQM5Nctr2qrp4jhDDzZOfoKNF1J7ss/JWP9SegrmrSbfKb0opLmZ6HaBbe2GP8AWSc/Spl4H1qjZK/lK0p+cjn2q5mt4qyMZO7HZpM0maQmqELmkdti5NID1zVS8mwh5oQmZl/dl5dobgVSM5/vUGOSZmZVLc8nsKoXWp6bYkia6Er4/wBXb/Mc+56ChsEXjM396nIZpAWQMVHU9hXJXvjRYFzFbpAg6SP87/4fpWbYeKE12KaRjcyyLB5yrLIFDff49BymD9e9JO47HePd28RHmXkfuI/nI/L/ABqH+1IcYRJnP94kKP61xum3esSXcck8NhDbjrDHuct9XOAPwFdMNOl1G38pLlLQt1kSVi/4Y4H5Urhyl0av82VtF+jOSKeuqttwbaMe+5s/zqgnga/IzD4jufYM27+Yq1N4d1G1tcrdySTKv8aBkY++FyPzoUgcWXF1ONm+aAj/AHJP8RUi3Mbr8szq3o68fmK521vLiJmXVLV4FUf6+2Bnj/EL8y/lVy1ura8QyWtxFNGDtLRtnB9+4/ECrWpDTRru06AkEOn95DkVAbl/71CBlAZWII7io7iWFY98uEOfvKP5ilqCkSLcMzgbu9XJmPk5PpWfaosjo6MGQ8hlOQa0LlcQGrjsDKsNyV4zUd3fiMD5lBOcbm2jgEnJ7cA1Q1G8XSoPNmVizf6qIEBpDnGFB61hap4e1fXYt2oaklnHw0dna5YA/wDTRz1P04+tR6Fep5nq/jc+ItZik1UXD6FFIc21sdvm45A3H14yeoHQV1Vt4e1HxJZWPi9LeztdLsX22+lqQsXlKeVUfxMecluSfasvxB4VWGe3msWiMcW5bmB3GLRgMsQpPR+o7kmui0LQ9S1HTEtp7i4ttIDbhGG7f3VHQsTyzdB0FC3sU72uelHU/wDR1dI/JjYDYOMkegx2/SqDXTSSF2PJ96qx2sUESQwRiOGNQqICTgD3NO8s0Mm52Ny+WCimkhI+ajQmWYt2FV9Rn8uPAPJqkJlSeUPITUDyoiszEBVGSTUO4kVzHjXVDp+iNEjYluDsH071DZaRxetaw+ra3NOmSpbZEo9Og/OvVfDGj/YrOCCTmRRvlP8Atnr+XT8K8z8Cact3rRvJlzBZDfyOr/wj8OT+Fe0aapEAbgseTWKjd3ZpKVlZGrHgDAPNOz3qPJx60u7p/j/WtbmQ/NNzRu4qGWeO3ieaZwiKMljTuBIzYU+tcprfimxsXMUeLq4Xqin5FPuf6CsDxJ4ykvGe1sWMVv0Lg4Z/8BXGvN6Gi4WNrUNevtRJWWYrF2ij+VB+Hf8AGksNIutQwwxFCf8Alo3Q/Qd6pWxht5A1xh5OojPRf9739vz9K3YNTeZSd2I14Zj0H+fSsJ1HtE1hTW8i2NC02FADH58gwd8nPP0rH8P+E4NDv2ur/VkEJMo8pYiHKuwbpn+FlyPqatS6pI42wHy17uT8x/w/CqTXEKkmRyxPUscA/wCNKPNF3bG7PRIa1hYxyHF1dSc/e3YJ/Wrlu8Fv/q5bsH1aYf4VntrVnCdoDk/7CYH5msTVNblTdc20bbIvmKF+WxRzILM9FtNcuISCsjMv+0Qa37TxOjYEhKn1I4/MV59AXTQkZid/2cEkdQSBn+dMM6By9vM4BPR1K/8A1q0skQm2el3NxZXy+ZJEjHtKhwR/wIc/nXPX+jxzTeciJOQPvY2TKPZlwT/nisW11aWFwHyD69M/41uW92lyu5HCuOfQfiO31q42ehMror251CGCRLS8MvGEju4d+36OpU/mDVRbTU57hvt8Z8o55iUufYYJFbwuIsnzsRyd2PG76/40jSlnEanr1q+VrczcvIyXlu9PgP8AZ8zLjnE1sFXPudx/QVuWl/f3ESzslnHGRhWVWdwfX5jgH8KoXJEsqWyANzycVqQwqiKnTsaqwucrR2cKTtcEGW5YYaeU75D+J6D2FVbm9kbUYtOs0SS5YeZIXbCxRjqzf0Her2tXEOh6VJe3Eka8hI97YDOeACfT19qyNGspbW3luJyWubxvMdmHzbewPp9BjjHGc1KL31K//CJaQL97t4TPM8xldpWLA88AZ7D3zW8WzjpgDAA4AHoKiANPC0wDijIpdtNK0wOlhXy4cnrWJfTebcEdhWtfTCGA+uK54tkknqaTAeK8m8c6p9u8QPArZithsH1716nczeRaSyDqqkivFLi0mfVHkmBJZy7E/nWTLjoz0DwRbbbaO1UdT50x9Seg/l+teoWqgR5x/hXE+C7A22lpLIP3k53nPYdh+X867ZG2qB6ClHXUUiyT3/z+dLnmow1OLYzVCGzSxwRtJKwVEGWJ7V5n4o8RyanMYIiVtlOAAevua0PGmvF5jpsD/Ih/eEHqfT8P559K4iVsj0pIZC5z+NVLu9WyUBSDOwyv+wPX6+n51PcSpBA8r8qg6evoK5oefqF8EBzNM3JPQe/0AoY0bGlrLfTMSzCFD+8fufYe5rovNAxGuFVB8qDsP896rQRQWFkFHEUQ4z/E3cmucurq7a9S9RiB/AvqPf61GkStZHU6lceWsPlA7Zc/vCOFx/D9R/LBrEmkMU5kL5PdnNaVhdQ6jakspaNjtkQHBUj09COxqe30+0t5DJGjO2ch5SGYfTsKmUXJ3GpWVjMgsbq7YSeQ+09Gb5B+tTTeF7m5j8o3NvHG/D4LMwHfHGD+Nbqknkmp4yapU0iXNkjW5ks2t1IGVCjceOMcfpVNLO7tmO+IhP7wwy/mOK0I2q1E5U5ViD7Gr5b6kc1jPjsI5kIVjHIfQZU/Uf4VGhubGYq4KOoyBnIYeqnuP8mtmLyXk3FQjHuBgH6isbxDqVxeu2haVaiS9DK0lzMpEdqOuc9yRxjuD3ptK2pKbua8FzFrFs0O8LOoyMdvf6UumM8DPb3JPmqMLn+VQaZZ2nh+0kmnmMk0pzLMw5c9lVR0A7AVf8yHUYVurYkvGcHjB47H+dXF9GTKz22LGm4eV5G9eK1RkjNZ1ogUZUYU849PUVbuLlbS0muG6RoW+uKrYz3ZzmoH/hIfGMVnOBJp+kqJWXPDSnoD69vwB9a6NsyOWPesTwjaFNEa8l5nvpmuHb1GcD+p/GugUAVJ0abdiHZilAqciomGDTATFNIp9NIzTEWNUuN83lg8DrWcWxRLKXkZj3NRZzUSY0h8iiZDFtLFuijvXIzabBeXiGEAoW2k/jzXQw67puL21julF+R5KL/d461HplkkJiiQZWJcfU1g5Nto0skjodPiEcSgDAUVoq1VoV2RipQa0SsjMsK/NU9X1Iadpc9zkblXCD/aPA/x/Cps8Vx/ji9ZYrW1B+8TKw+nyj+ZoA42ZzJK0hJLMcknqagYEHjpUhIHvQBuI9aCjA1yfDR24PQb2+p6fp/Op/D9piF7ph88p2J7KOp/E/yrF1CY3F7Ky8l3wo/Qf0rsIoltLQKv3YYwn6c0kBDJby6rctbR58iFQZCO/ov9aYukS/aD5mPLUdW6V2Hh/ShBoUMjD9/c/vnz/tdB+AxXP39559xL5R/dhyi47gcE/if5Ck466i5m9EJEI4U2xjjOST1Y+pPrUyyVSV+Bmorq7MYEcZxI3Gf7tDlbVlKPRGssmTgEcdRmi8u3srMzrH5hDBdpOOtcnaSHStVWZnzDcERynOfm7H/PrXVXG6WymRVLErkADOSCDSUrq6Bxs7FeLxGygtNaEKoBJRwf0NbOmapZ6pbefaSiRAdp4III7HNedatJJK8ekWqN9ruDgjuo9a77SrNdO022s1bcIYwmSOuKqDb3JkkjWD5HTmp43M0iRhiOcDd0FZ9tdW9zNLFDOjyQkLIqtkqT61djUqwPp3rRGbNLxN4YS58NtNaIW1CyzPG3eQY+dPxA49wK47w5qoivlTd+6uFwD744P+fWvWNGuPtNirHl0O0g/pXifiC0/sLxJqFjGNqQzlofZG+dfyzj8KUlZ3CGvus9ItJBjHY8/jWX42vGtvDMoQ/NLKkY/PJ/lT7C8E1lFcDo6q/6VmePmZtGssHj7UCfpsatJbXIh8aR1mnxC20u1txx5cCJj6KKsA8A1GGGB9KbvIyPQ0NDg9WWN1Rueag84g0vmUJGjZKKcBUIkpwenYm5TIp0YHzHgkDOKVqzdQjumKtaj5/X0rCWxrHc5e100jxK9zLDtJLSsT0z2ruNMiyob15rAhnnuZpIplG9G2lgOtdZYRbIx9Kyin1KnboaCAYxTsU1eKdmtjMQnArzzxlL5mu7M8JCg/PJ/rXoR5rzrxgpXxFL/tRoRn6f/WoY1uYJ9+KZI/lxSSf3VJ/IU9gRz2qveZFlcf8AXNv5GoKOW01fO1a0Q8jzAT+HP9K9DtodPuLORLm7MEpb7rRkqwI9R0rgdCUnVoGHbP8A6Ca6qRpVuLSMKuyeRVJOcgFsZFUtBM6698QwR2TxWdv5kgTYhEyKAcYB55wPpXHrEIY0iDbtihd3rjvXTar4YXTdIutRW7eRbeMyGMx4JAP1rnD1xUu/UI26DdvT+VKLW2nOWLRP/e+8p+o6j8PypOefz4qs15sP3CfoeamVralq/QdJpX2mULc/LbxgZEbgic+nqFHfIBrXibbjacY6Y7VlWl6t2rlVZSjlWDf596vRGnGyVkTLe7NTzGnZGmIdlGFZgCwHsetTxRs0oUkBSM9etU4m4FXUkc42TmLAI4jDZ5z3rQzZz9+Bo3j6xmTiLUYzDKPVh0P16V2CnnFc9qeiPq2qWN5PqTbbNw6Rpbhcn3O4+lb6v6U4ky2R1HheT9/PFnhk3D6g/wD168/+Ktt5fiuKZR/rbJC31V2X+WK6fTtRewuPNjClipX5gSP0xWb4gtG8Taj595MkUaQCKMQKcg7ixJz9R0py2CO5l+Hrgnw3Cc8oGX8m/wDr1a8YkSeF43PUOrD/AL5NVxYJo2kSW6TGVQ5Idl2k5PpS+MnKeGbKIfeeZFx/wBqr7Al/EVu52MbbokPqoP6U4clqiA2gL/dAH5U5STnFV0Jj8QrJTdtPOTTQDQmW0RkEUB8dalZGI6VXeJz0FVzC5WPPSrVlCSWODjb17VWYVsWZT7BIF5Nc25texkR2sJmYBlD7+RjrWvDDhcD9K5yaTDse+amtNRuIDgNuX0NTomPVo6HYRShDVe31WKUASDaavCSEjIcYq1qQxgQA5NefeNUB1WKYdGj2/iD/APXruri9RQVj+Y1yHim1Z9PSfqY5OfoeP8KcloKO5xzCoZl3xOpH3lI/OrJXNQycGs2aHOaEmy8UHqDiuoulzZwzL96B935HNc4V+y6s5HALbh+NdTbbZoZIuoI3D/P5VcXqTJaHoUtsNS0a4t+q3MDIP+BLx/OvLoi3lpuBD7QGHoR1H55r0Pwte+fpKRM3723PlMPp0/TFcv4n037Bq0kyKRBcsZF44DH7w/Pn8amQoOzsZA6jPSqTqEl8oKZZidqRpyzH6f1q2Ov8qRVSOWSWONVlkXY8gHzMB2J9KiUbo1TsQ21m1vLLJJIhmlILRxcomBjAPc+p6VdjdSSoIz9aqSSFEJHXt7Vj6uJY7CV45GV1wwZDjpzS5lHQfLc65GwMjn6VPF5jHKuRnrkcVUtJQ8Uch5DqCR9RUVxLPdy3Gn2Z8tgAJrhxxGp/u+pNXKXKrmaVyzpeuQalNcwwh91s+xmI+VvcGtdZelY2nWVvplqtvbrhBySerH1NaCyYHNaK9tTOR0+hWMF950k+4xx4UANjJP8A9b+dcR4h8RT6d4rvrKxwbW32JhsEh9uW5P1H5V2n9oQ+H/D8k0xH7pDI4HdvT+QrymytptR1FfPP7+6mMkp+pyx/LNKcraIVOPM23sdjcyyXlhZCRQsty65Uds1L4jQXeu6Fpw5BmMzD/ZGB/INUluoutcQKP3Vqm78T0pNOIvvFt/fnmK1iFvEe245BI/8AH/zFadLCW9+x0pbv6nNTwqTGD681UB3uEHU1eB28Y4qyIdxwQ0vl0Bs04EnpQWPSMGlMA9KI0dmAHJNaEdowILdqG0gSbOdc4rUnRrPR1mUcPyR9aym5NaepyMPD8IPchcGue9jU5tiWY1LGKjA5qxEucVktWWTIOKnAK9M0kacip0Tc1bRREmOij7mmX9oLywntz/GhA+vb9atqMCgirsSeVFSpKsMMDgj0NQSV0HiiwNpqhmUYin+YY7N3H9a52TpxzWTLRW1LSpJYEuYApaM4bLYGD059farFut5pV1Db6hCIrgxCZU3Z3RnjkdQfY+oPetLTr2PTrXzpk8+7Q4tY3T93F3Lt/ebJ4HTjJrI1GC8uz/aBEjzhy4mkzhyeoJ9+n/6qlXK6HU2S3NjfJd2iNLbzgCQRjJ9jj/PeqfiDWxriQCBWison8xZXUh7hsEfKD0Tk/MevaodJ8U3VnpM1tbKu2cFQ7Ah4v7yj09xWTJcp5u6cyFejOFyF9MnsP5VUnd3JUUKDzQWqe45t42UDaB2qnvVjjIzUcyZRMoicjzI93urEH/P1FRX2mrewmOG9lhRuGV4VY49AQR/KnDAqZG5xT5U9wu1sWLaMQwRxBiwRQoJ6nFWg5KgEnA6ZqojdqlEgXGT+FaGbLC8mrFtIkU4lkHCcge/rWVNevb/NsDxry+DyB6j1+latlHaam0EU920EEhH7+MZwp/z17UJp7EuLW5lateyaxcmIf8ekT5bnh3HQfQfz+lT6XbrZRPeyjDFcIMfw/wD1629U0aHSphbsqrGgHlqp+8PX6VnW+Ly5MkhAtYOWJ4BI/oKzpqU5czNJ8sI8qLBuDo+hy3LnF1cH5R33Hp+Q5rR0iyGm6bFAw/et+8m/3z2/AYH4GsyzU6xqQ1KVT9itzi2Rh99v72PyP5D1ro7SFrqQsQdg6mumPcwlouXqy5ZQ8GVu/Aqw605MLgdhTiMiqBKxEgqdOKjRfmq7bweZKq4yO9JsaRY0+Ily/G0VceTMyoOmeTQYxb2xCfKWPSqsiYYnfgjpUGhzTdea1ddkQ6VaIMZ4Ix6YrKjIku41PKlxkVpeIFXzraJRhVQnHpzWN7plJamABxmrMAyaQoKlgXmpSKZaQYXNTRYAyeKbjCUozg8c4IHHtxW0TJk5YAckD60jMBURJViQuQQQBzmmnaWwFbb2wTn2FWiWyprOnjVNOkhA/ej5oz/tD/HpXm28RTlZgV2nDA9jXqmcFRsJHfk+h/riuc1/w+tyTeRxjeT++G0kkY4IweCD1qZx0uOEuhzLKiDfOuV/gizjPuarTXcskhdmzxjb/Dj0x6VcvwkNxIs0X73BKgg4xxjPP1rPuWgb/Urtwzdjyvbr+NZpGhTljMUhubcEq3+sjz1/+v6Hv0Pt1/hTxFpa2TaZqkCG0lYnzwvKn0cdePXt9K5Pf5Z3duhHr7VUyySF48hmONvXd7Y70XsM9H1b4du8f2jRLpGgcbljJyjfTHT6jj2rj9T0e/0+LbeabPFj/loF3Ifow4q7onifVNBk8u3nVRnL2rtvTP8AQ/TBrvtN+JGlXICalbSWkh+8yjeh/r+lZumn8LK5mtzxfVZ5bPTGuYZ13LjA4NaakiMMcBsD6AmvRPG9n4T17wtdzWTaa95Gu6EqVRt304578iuY8K6dY6vr0Vnfoj2zKxKuxUEgccgiiMZJNA2nqY8ri32s0qsOpFMS8bULhYrG1ku5B0S3Td+Z6D8TXp1x4S8Hae3mPFYKR/z1cNj/AL6JqtJ4g0TTV8u1xIB0WBMD8+BU8k+pXNAwtI8AXl8yza5L5ER5FpbN8x9mft9F/Oqd3osfh3Up7S2uVks2O6GLdueInqv+FX9Q8XX94DDblbSL+IhuQPduv4CsGa/hixDEXeaTglRmWTPZR/AP1PrVwi4u7ZE5JqyRLJJJcyNGH8uJP9bIT0Hpn1/lUttCNVVY13w6PEfmYcNcEfwj29/8mWHQ5G8tdSQqeDHpsJyx9N+On+eO9dbaaDKwje+CxRqMJbx8BR6e3866I3l6GD931KtjZvesoRBFbp8o2jhR6Ct9IkhjEca4UVMqqiBEUKoGAAOlMY1oQkQuMc0K+RT2G6q7yCLqaRRIW2t1q7pjtLd5U8KOa5+a6LvheldDo0LxxRyA5yQTj0qXoOOpbluDLdlG+6hwajvCDfpGv3Qm40vkn7ddBjxv4+hFPuI/njbPJGKks57T7Zp9QjQMVOc5HbFT6xu/tGQOclQB+OKsaXE4u2kC5UKyk+nBP9KqXbmeeSVurtmsNomnUzxndVyEAAVFsx2qReKIgyw7fKKkRsCouPLHNOStkZtEpOe1JtIGadGrO4VVLMegAqyLY4zMwQf3QeT7+wqk7EtXKBLA88DOM06RXYAOSiZ7H73tVieaOFiYlAGMZJ5NU3nLnKjFJybGopGRrelrfWLLbRpJKAWXc+Du+tef3EE1vI0c0TxuOoYYxXq6CoL/AE60v4dl1Csg7HuPoai3YpM8iZZGkzj5R0FWYtsMW6NW+0NxvbGEHt7+9dPfeE/KJNnPkf3ZOv51izaZewH57diPVeR+lIq5Q8lWGWGW9R1pu104WTI9GFTMHQ4ZCPqDUZJNLQY0Fs8xg+4bFTxlP4o5B/wIUyONmPCMfoKuxWFzJjEJA9W4oSE2LE1mnLW7ufeTH8qekyX11NZLbLbLJCRE8YIIf13dc1dt9GLEebMB7IM1sWum2dswdYsuOQ7nJFVyNk81jEh0ptchsr65F4jNCIpYIUCbpE+Vn3HGAcD9a6jRvDkFkuYRFZ56mD5pT9ZD0/ACpg5POSfrViBznrWqppashyb0Niws7WyTFvCqE/ebqzfU9TUsp3NVKGZlHWrasHGa0uiLWImHamkVIwplIdiNiFGax71yznHStG6k5Kisa7kIOB1NDWlxrcbG38R7V2Hh6VprJeRtzXFK5X5D3Fbvh150EoUbkyOM461k2WkbDTBryVw2cPggVNIvmxIVYgq2R9KqSwJbXLIAcu2RU1uQSFJYJSGR2cvl2s/BB3FfzXrWdInOK1sD+zIzgZ3df+BGqbDk1EldIpMoOKY1XiBnoKrXAATikog2VombcVOTWtDZP5QlmPlRnnJ649faq2lqDdR5APzD+da2tkiAAEgbulaWsQVzfwwxNHbx5z3Pf61nyzO+SW69fem9qY1IBnU08DAqPvUiUASoac5+WkWkb7poHYo3BrOlbrV+4rOk70XCxUmP41WYew/KrEvWqrGi47Bk4qSMmq9PXoaEDRfhJ9qsbz3NUIelTL1FO5JoRPlas27/ALyqMP3TVu2+9Vp6E21NISYNWLebLYqOBVJ5APHcUxQBOMDFJPUov5zUUhIqSopq0IRkX1x5ZPPNYbTvLLknjNX78n7T1qmwAj6d6mTu7FJW1JokM03HQV0+ixFN+1juOBt9QawbADA4rodL4bI/2v5VD2KRpTQrMqTPjIyCfb/Ipg2rjoVb9KdL/wAejfh/OoB/qh/vUugdT//Z   \n",
       "\n",
       "   ...  similarity_to_23517  similarity_to_23518  similarity_to_23519  \\\n",
       "0  ...             1.000000             0.921817             1.000000   \n",
       "1  ...             1.000000             0.921817             1.000000   \n",
       "2  ...             0.911404             0.997245             0.911404   \n",
       "\n",
       "   similarity_to_23520  similarity_to_23521  similarity_to_23522  \\\n",
       "0             0.934945             0.942313             0.945852   \n",
       "1             0.934945             0.942313             0.945852   \n",
       "2             0.995987             0.993326             0.992354   \n",
       "\n",
       "   similarity_to_23523  similarity_to_23524  similarity_to_23525  \\\n",
       "0             0.916099             1.000000             0.904372   \n",
       "1             0.916099             1.000000             0.904372   \n",
       "2             0.998506             0.911404             0.997556   \n",
       "\n",
       "   similarity_to_23526  \n",
       "0             0.936116  \n",
       "1             0.936116  \n",
       "2             0.992779  \n",
       "\n",
       "[3 rows x 23555 columns]"
      ],
      "text/html": [
       "<div>\n",
       "<style scoped>\n",
       "    .dataframe tbody tr th:only-of-type {\n",
       "        vertical-align: middle;\n",
       "    }\n",
       "\n",
       "    .dataframe tbody tr th {\n",
       "        vertical-align: top;\n",
       "    }\n",
       "\n",
       "    .dataframe thead th {\n",
       "        text-align: right;\n",
       "    }\n",
       "</style>\n",
       "<table border=\"1\" class=\"dataframe\">\n",
       "  <thead>\n",
       "    <tr style=\"text-align: right;\">\n",
       "      <th></th>\n",
       "      <th>view</th>\n",
       "      <th>like</th>\n",
       "      <th>comment</th>\n",
       "      <th>hide</th>\n",
       "      <th>expand</th>\n",
       "      <th>open_photo</th>\n",
       "      <th>open</th>\n",
       "      <th>share_to_message</th>\n",
       "      <th>text</th>\n",
       "      <th>photo</th>\n",
       "      <th>...</th>\n",
       "      <th>similarity_to_23517</th>\n",
       "      <th>similarity_to_23518</th>\n",
       "      <th>similarity_to_23519</th>\n",
       "      <th>similarity_to_23520</th>\n",
       "      <th>similarity_to_23521</th>\n",
       "      <th>similarity_to_23522</th>\n",
       "      <th>similarity_to_23523</th>\n",
       "      <th>similarity_to_23524</th>\n",
       "      <th>similarity_to_23525</th>\n",
       "      <th>similarity_to_23526</th>\n",
       "    </tr>\n",
       "  </thead>\n",
       "  <tbody>\n",
       "    <tr>\n",
       "      <th>0</th>\n",
       "      <td>9.293762</td>\n",
       "      <td>5.225747</td>\n",
       "      <td>0.000000</td>\n",
       "      <td>1.098612</td>\n",
       "      <td>0.000000</td>\n",
       "      <td>7.574558</td>\n",
       "      <td>2.708050</td>\n",
       "      <td>3.044522</td>\n",
       "      <td></td>\n",
       "      <td>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</td>\n",
       "      <td>...</td>\n",
       "      <td>1.000000</td>\n",
       "      <td>0.921817</td>\n",
       "      <td>1.000000</td>\n",
       "      <td>0.934945</td>\n",
       "      <td>0.942313</td>\n",
       "      <td>0.945852</td>\n",
       "      <td>0.916099</td>\n",
       "      <td>1.000000</td>\n",
       "      <td>0.904372</td>\n",
       "      <td>0.936116</td>\n",
       "    </tr>\n",
       "    <tr>\n",
       "      <th>1</th>\n",
       "      <td>9.114270</td>\n",
       "      <td>5.429346</td>\n",
       "      <td>0.693147</td>\n",
       "      <td>2.079442</td>\n",
       "      <td>1.609438</td>\n",
       "      <td>6.865891</td>\n",
       "      <td>3.178054</td>\n",
       "      <td>1.098612</td>\n",
       "      <td>• &amp;#128571;</td>\n",
       "      <td>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</td>\n",
       "      <td>...</td>\n",
       "      <td>1.000000</td>\n",
       "      <td>0.921817</td>\n",
       "      <td>1.000000</td>\n",
       "      <td>0.934945</td>\n",
       "      <td>0.942313</td>\n",
       "      <td>0.945852</td>\n",
       "      <td>0.916099</td>\n",
       "      <td>1.000000</td>\n",
       "      <td>0.904372</td>\n",
       "      <td>0.936116</td>\n",
       "    </tr>\n",
       "    <tr>\n",
       "      <th>2</th>\n",
       "      <td>8.585412</td>\n",
       "      <td>3.258097</td>\n",
       "      <td>1.791759</td>\n",
       "      <td>2.564949</td>\n",
       "      <td>6.395262</td>\n",
       "      <td>6.066108</td>\n",
       "      <td>4.744932</td>\n",
       "      <td>1.609438</td>\n",
       "      <td>Новость, конечно, старенькая, но все равно интересная. Около 9 месяцев назад Final анонсировали что-то планарное и очень легкое под названием X8000. О чем сегодня напомнил один из подписчиков ниже (за что ему спасибо :)) &lt;br&gt;И вот интересно, кто-то уже слышал? Чет я пока в продаже на гугле таких не замечал</td>\n",
       "      <td>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</td>\n",
       "      <td>...</td>\n",
       "      <td>0.911404</td>\n",
       "      <td>0.997245</td>\n",
       "      <td>0.911404</td>\n",
       "      <td>0.995987</td>\n",
       "      <td>0.993326</td>\n",
       "      <td>0.992354</td>\n",
       "      <td>0.998506</td>\n",
       "      <td>0.911404</td>\n",
       "      <td>0.997556</td>\n",
       "      <td>0.992779</td>\n",
       "    </tr>\n",
       "  </tbody>\n",
       "</table>\n",
       "<p>3 rows × 23555 columns</p>\n",
       "</div>"
      ]
     },
     "execution_count": 10,
     "metadata": {},
     "output_type": "execute_result"
    }
   ],
   "execution_count": 10
  }
 ],
 "metadata": {
  "kernelspec": {
   "display_name": "Python 3",
   "language": "python",
   "name": "python3"
  },
  "language_info": {
   "codemirror_mode": {
    "name": "ipython",
    "version": 2
   },
   "file_extension": ".py",
   "mimetype": "text/x-python",
   "name": "python",
   "nbconvert_exporter": "python",
   "pygments_lexer": "ipython2",
   "version": "2.7.6"
  }
 },
 "nbformat": 4,
 "nbformat_minor": 5
}
